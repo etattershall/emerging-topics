{
 "cells": [
  {
   "cell_type": "markdown",
   "metadata": {},
   "source": [
    "## Data cleaning script for USPTO data\n",
    "\n",
    "Sorry these files are so messy!"
   ]
  },
  {
   "cell_type": "code",
   "execution_count": 1,
   "metadata": {},
   "outputs": [],
   "source": [
    "import cleaning3\n",
    "import json\n",
    "from collections import defaultdict\n",
    "import numpy as np\n",
    "import boto3\n",
    "import re\n",
    "import unicodedata\n",
    "import io\n",
    "\n",
    "from nltk.stem import WordNetLemmatizer\n",
    "from sklearn.feature_extraction.text import CountVectorizer\n",
    "import time\n",
    "import matplotlib.pyplot as plt\n",
    "\n",
    "\n",
    "import sys\n",
    "sys.path.append(\"../../tools\")\n",
    "import my_stopwords"
   ]
  },
  {
   "cell_type": "code",
   "execution_count": 2,
   "metadata": {},
   "outputs": [],
   "source": [
    "# Download the lemmatisesr\n",
    "wnl = WordNetLemmatizer()\n",
    "\n",
    "# Create a tokeniser\n",
    "count = CountVectorizer(strip_accents='ascii', min_df=1)\n",
    "tokeniser = count.build_analyzer()\n",
    "\n",
    "stopwords = my_stopwords.get_stopwords()"
   ]
  },
  {
   "cell_type": "code",
   "execution_count": 16,
   "metadata": {},
   "outputs": [],
   "source": [
    "cleaned_text = []\n",
    "number_of_tokens = []\n",
    "f = open('D:/uspto/uspto_filtered/200006.txt', \"r\", encoding=\"utf8\")\n",
    "for i, line in enumerate(f):\n",
    "    json_document = json.loads(line)\n",
    "    text = json_document['abstract'] + ' ' + json_document['description'] + json_document['claims']\n",
    "    if len(text) > 100:\n",
    "        cleaned_text.append(cleaning3.clean(text, wnl, tokeniser))\n",
    "        \n",
    "        number_of_tokens.append(len(tokeniser(text)))"
   ]
  },
  {
   "cell_type": "code",
   "execution_count": 6,
   "metadata": {},
   "outputs": [
    {
     "name": "stdout",
     "output_type": "stream",
     "text": [
      "200901 : 9311 documents done in 130.104\n",
      "200902 : 9889 documents done in 141.796\n",
      "200903 : 12238 documents done in 175.338\n",
      "200904 : 10273 documents done in 145.388\n",
      "200905 : 9540 documents done in 136.42\n",
      "200906 : 11932 documents done in 172.286\n",
      "200907 : 10498 documents done in 150.013\n",
      "200908 : 10169 documents done in 145.929\n",
      "200909 : 11725 documents done in 171.933\n",
      "200910 : 10789 documents done in 157.288\n",
      "200911 : 10347 documents done in 146.65\n",
      "200912 : 14001 documents done in 193.554\n"
     ]
    }
   ],
   "source": [
    "years = range(2009, 2010)\n",
    "months = ['01', '02', '03', '04', '05', '06', '07', '08', '09', '10', '11', '12']\n",
    "\n",
    "\n",
    "for year in years:\n",
    "    for month in months:\n",
    "        cleaned_text = []\n",
    "        t0 = time.time()\n",
    "        with open('D:/uspto/uspto_filtered/'+str(year)+month+'.txt', \"r\", encoding=\"utf8\") as f:\n",
    "        \n",
    "            for i, line in enumerate(f):\n",
    "                json_document = json.loads(line)\n",
    "                text = json_document['abstract'] + ' ' + json_document['description']\n",
    "                if len(text) > 100:\n",
    "                    cleaned_text.append(cleaning3.clean(text, wnl, tokeniser))\n",
    "\n",
    "\n",
    "            with open(\"../../Data/uspto_cleaned/\"+str(year)+month+\".txt\", \"a\") as f:\n",
    "                for cleaned in cleaned_text:\n",
    "                    f.write(cleaned + '\\n')\n",
    "\n",
    "            print(str(year)+month, ':', str(len(cleaned_text)), 'documents done in', str(np.round(time.time()-t0, 3)))\n",
    "            del cleaned_text\n",
    "        \n"
   ]
  },
  {
   "cell_type": "code",
   "execution_count": 5,
   "metadata": {},
   "outputs": [],
   "source": [
    "del cleaned_text"
   ]
  },
  {
   "cell_type": "code",
   "execution_count": null,
   "metadata": {},
   "outputs": [],
   "source": [
    "331"
   ]
  }
 ],
 "metadata": {
  "kernelspec": {
   "display_name": "Python 3",
   "language": "python",
   "name": "python3"
  },
  "language_info": {
   "codemirror_mode": {
    "name": "ipython",
    "version": 3
   },
   "file_extension": ".py",
   "mimetype": "text/x-python",
   "name": "python",
   "nbconvert_exporter": "python",
   "pygments_lexer": "ipython3",
   "version": "3.7.11"
  }
 },
 "nbformat": 4,
 "nbformat_minor": 2
}
