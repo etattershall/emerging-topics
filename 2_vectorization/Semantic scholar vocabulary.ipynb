{
 "cells": [
  {
   "cell_type": "markdown",
   "metadata": {},
   "source": [
    "## Vocabulary building on Semantic Scholar\n",
    "\n",
    "The semantic scholar dataset is our largest dataset of purely computer science text. We would like to build an overall vocabulary based on this dataset. The data is already cleaned using the cleaning3 script.\n",
    "\n",
    "- Remove stopwords (remember that text is lemmatised and a lemmatised list must be passed!)\n",
    "- Find a representative list of 1-3grams\n",
    "\n",
    "In order to filter, we would like to take only words that occur a certain number of times. However, since there is more data in more recent years, it is unfair to set a min document frequency over the entire dataset.\n",
    "\n",
    "In our previous work:\n",
    "\n",
    "**For each year:**\n",
    "- remove stopwords\n",
    "- use countvectorizer to create a vocabulary of ngrams (1-5), using min_df of 6. The idea of this is that if a term is important, at some point it will appear in more than 6 papers in a year. This acts to limit the size of the vocabulary.\n",
    "- We then attempted to remove redundant terms (more important when using large ngrams). This prevents too much term overlap.\n",
    "\n",
    "However:\n",
    "- We are playing with a very large amount of data\n",
    "- We have not yet tried to remove german abstracts\n",
    "\n",
    "What we could do this time:\n",
    "- remove german abstracts \n",
    "- remove stopwords\n",
    "- use countvectorizer to create a vocab of 1-5grams using min df of 6\n",
    "- vectorize the entire dataset and apply a second min df of 20. We cannot reasonably work out trends which occur less than 20 times in a dataset of 2 million abstracts."
   ]
  },
  {
   "cell_type": "code",
   "execution_count": 1,
   "metadata": {},
   "outputs": [],
   "source": [
    "from langdetect import detect\n",
    "import json\n",
    "from collections import defaultdict\n",
    "import numpy as np\n",
    "import boto3\n",
    "import re\n",
    "import unicodedata\n",
    "from nltk.stem import WordNetLemmatizer\n",
    "from sklearn.feature_extraction.text import CountVectorizer\n",
    "from tqdm import tqdm\n",
    "import random\n",
    "import pickle\n",
    "\n",
    "import sys\n",
    "import time\n",
    "import csv\n",
    "sys.path.append(\"../../tools\")\n",
    "import my_stopwords3\n",
    "\n",
    "from sys import getsizeof\n",
    "\n",
    "stop = my_stopwords3.get_stopwords()"
   ]
  },
  {
   "cell_type": "markdown",
   "metadata": {},
   "source": [
    "# Language detection"
   ]
  },
  {
   "cell_type": "markdown",
   "metadata": {},
   "source": [
    "### How long does it take to detect german language abstracts?"
   ]
  },
  {
   "cell_type": "code",
   "execution_count": 3,
   "metadata": {},
   "outputs": [
    {
     "name": "stderr",
     "output_type": "stream",
     "text": [
      "Lines in file processed...: 65450it [08:53, 122.78it/s]\n"
     ]
    },
    {
     "ename": "TypeError",
     "evalue": "object of type '_io.TextIOWrapper' has no len()",
     "output_type": "error",
     "traceback": [
      "\u001b[1;31m---------------------------------------------------------------------------\u001b[0m",
      "\u001b[1;31mTypeError\u001b[0m                                 Traceback (most recent call last)",
      "\u001b[1;32m<ipython-input-3-15e8c16b64ac>\u001b[0m in \u001b[0;36m<module>\u001b[1;34m()\u001b[0m\n\u001b[0;32m      6\u001b[0m         \u001b[0mlangs\u001b[0m\u001b[1;33m[\u001b[0m\u001b[0mdetect\u001b[0m\u001b[1;33m(\u001b[0m\u001b[0mline\u001b[0m\u001b[1;33m[\u001b[0m\u001b[1;36m0\u001b[0m\u001b[1;33m:\u001b[0m\u001b[1;36m1000\u001b[0m\u001b[1;33m]\u001b[0m\u001b[1;33m)\u001b[0m\u001b[1;33m]\u001b[0m\u001b[1;33m.\u001b[0m\u001b[0mappend\u001b[0m\u001b[1;33m(\u001b[0m\u001b[0mline\u001b[0m\u001b[1;33m[\u001b[0m\u001b[1;36m0\u001b[0m\u001b[1;33m:\u001b[0m\u001b[1;36m200\u001b[0m\u001b[1;33m]\u001b[0m\u001b[1;33m)\u001b[0m\u001b[1;33m\u001b[0m\u001b[0m\n\u001b[0;32m      7\u001b[0m \u001b[1;33m\u001b[0m\u001b[0m\n\u001b[1;32m----> 8\u001b[1;33m     \u001b[0mprint\u001b[0m\u001b[1;33m(\u001b[0m\u001b[0mlen\u001b[0m\u001b[1;33m(\u001b[0m\u001b[0mf\u001b[0m\u001b[1;33m)\u001b[0m\u001b[1;33m)\u001b[0m\u001b[1;33m\u001b[0m\u001b[0m\n\u001b[0m\u001b[0;32m      9\u001b[0m     \u001b[0mprint\u001b[0m\u001b[1;33m(\u001b[0m\u001b[0mtime\u001b[0m\u001b[1;33m.\u001b[0m\u001b[0mtime\u001b[0m\u001b[1;33m(\u001b[0m\u001b[1;33m)\u001b[0m\u001b[1;33m-\u001b[0m\u001b[0mt0\u001b[0m\u001b[1;33m)\u001b[0m\u001b[1;33m\u001b[0m\u001b[0m\n",
      "\u001b[1;31mTypeError\u001b[0m: object of type '_io.TextIOWrapper' has no len()"
     ]
    }
   ],
   "source": [
    "langs = defaultdict(list)\n",
    "\n",
    "with open(\"../../Data/semantic_scholar_cleaned/2000.txt\", \"r\") as f:\n",
    "    for line in tqdm(f,  desc='Lines in file processed...'):\n",
    "        langs[detect(line[0:1000])].append(line[0:200])\n",
    "\n"
   ]
  },
  {
   "cell_type": "markdown",
   "metadata": {},
   "source": [
    "It would take about 7 hours to run this on the entire dataset on this PC"
   ]
  },
  {
   "cell_type": "markdown",
   "metadata": {},
   "source": [
    "### How good is the detection?\n"
   ]
  },
  {
   "cell_type": "code",
   "execution_count": 15,
   "metadata": {},
   "outputs": [
    {
     "name": "stdout",
     "output_type": "stream",
     "text": [
      "en 64710\n",
      "de 451\n",
      "ca 5\n",
      "es 60\n",
      "pt 33\n",
      "fr 163\n",
      "it 6\n",
      "pl 2\n",
      "sv 1\n",
      "hr 1\n",
      "so 7\n",
      "ro 2\n",
      "nl 2\n",
      "sq 3\n",
      "lt 1\n",
      "cy 3\n"
     ]
    }
   ],
   "source": [
    "for key in langs.keys():\n",
    "    print(key, len(langs[key]))"
   ]
  },
  {
   "cell_type": "code",
   "execution_count": 16,
   "metadata": {},
   "outputs": [
    {
     "data": {
      "text/plain": [
       "['feldbusse fur die heim und gebaudeautomation feldbusse sind gerade im bereich der gebaudeautomation heutzutage nicht mehr wegzudenken in diesem beitrag soll eine kurze einfuhrung in die gebaudeautomat',\n",
       " 'entwurfsmustergesteuerte erzeugung von ocl constraint eine der grosten hurden auf dem weg zur formalen verifikation von software ist die erstellung und validierung der hierfur notwendigen formalen spe',\n",
       " '3ddashmodellierung von pflanzenblattern mittels eines depth from motion verfahrens in dieser arbeit wird ein verfahren zur gewinnung von 3ddashmodellen de adergerusts von pflanzenblattern fur die bota',\n",
       " 'hierarchische wasserscheiden transformation zur lippensegmentierung in farbbildsequenzen zur losung komplexer segmentierungsprobleme wird eine hierarchische und farbbasierte wasserscheidentransformati',\n",
       " 'selbstorganisierende klassifikation von 2d laserscans zur navigation eines amr der vorliegende beitrag stellt einen neuronalen interpretationsansatz fur laserscans vor der eine zur klassifikation von ',\n",
       " 'selbsttest mit akkumulatoren diese arbeit ist in elektronischer form verfugbar sich danneinzelne defekte diagnostizieren einleitung\\n',\n",
       " 'customer network management im bdashwin zusammenfassung unter dem begriff customer network management cnm wird in erster linie die kontrollierte weitergabe von managementinformationen durch den anbiet',\n",
       " 'signaturprufungen nach sigi digital signierte dokumente werden sich in der praxis nur bewahren wenn der signierende absehen kann das seine elektronische willenserklarung korrekt gepruft wird und unter',\n",
       " 'abfrage und wartungswerkzeuge heterogen annotierter sprachsignal korpora annotierte sprachsignal korpora sind projekt und anwendungsbezogen die hier beschriebenen werkzeuge sollen die weiterverwendung',\n",
       " 'grundebenen rekonstruktion in unbekannter innenraum umgebung durch einen mobilen roboter mittels einzelbild sequenzen e wird ein verfahren vorgestellt durch welches der masstabsgerechte grundplan eine',\n",
       " 'ein neues verfahren zur 3ddashechtzeitvisualisierung in der echokardiographie zusammenfassung beschrieben wird ein konzept zur 3ddashechtzeitdarstellung in der echokardiographie da durch ein zusatzsys',\n",
       " 'innovative kooperation unternehmensubergreifend trans organisational innovative cooperation unternehmensubergreifende kooperation ist da derzeitige schlagwort in industrie und handel der steigende mar',\n",
       " 'interaktive bildsegmentierung von ct und mrdashdaten auf basis einer modifizierten hierarchischen wasserscheiden transformation die segmentierung in medizinischen aufnahmen ist ein fundamentaler arbei',\n",
       " 'business reengineering in der telekommunikationsbranche zusammenfassung der unternehmensbereich enterprise consumer der alcatel sel ag hat sich zu einer effizienten ergebnisorientierten geschaftseinhe',\n",
       " 'moduville komponenten fur virtuelle www basierte lehrveranstaltungen mit der virtualisierung der lehre werden zur zeit recht hohe erwartungen verknupft durch verbesserte lehrmethodiken soll eine effek',\n",
       " 'workflow und prozesynchronisation mit interaktionsausdrucken und graphen konzeption und realisierung eines formalismus zur spezifikation und implementierung von synchronisationsbedingungen im rahmen d',\n",
       " 'da octopus videokonferenzsystem bericht uber ein gemeinsames projekt der hong kong university of science and technology und der btu cottbus zusammenfassung die hong kong university of science and tech',\n",
       " 'da gottinger druckkonzept zusammenfassung die rasche zunahme der bedeutung der datenverarbeitung fur die gesellschaft hat in den vergangenen jahren an vielen hochschulen bestrebungen ausgelost den stu',\n",
       " 'pcdashcluster in deutschland einblicke und ausblicke zusammenfassung dieser artikel gibt eine skizze der pcdashcluster computing landschaft in deutschland im sommer 1999 an einigen beispielen werden d',\n",
       " 'ein werkzeug zur automatischen verteilung von vielen dateien zusammenfassung in diesem artikel wird eine software zur automatischen verteilung von dateien von einem rechner zu einem bzw mehreren ander',\n",
       " 'netzmanagement in feldbussystemen fur groe feldbussysteme gewinnt die konfiguration und wartung der angeschlossenen feldgerate zunehmend an bedeutung diese elementaren aufgaben werden uber spezielle f',\n",
       " 'da everlage system verwaltung und bereitstellung kostenpflichtiger hypermedialer dokumente im internet everlage ist eine sonderfordermanahme im rahmen de bmbf forderkonzeptes global info elf deutsche ',\n",
       " 'linux fur eingebettete systeme embedded system laufen heute nicht mehr nur unter proprietaren betriebssystemen sondern zunehmend unter standardbetriebssystemen die auf den jeweiligen zweck de embedded',\n",
       " 'kategorisierung von rontgenbildern mit aktiven konturmodellen fur da image retrieval in medical application irma mussen digitalen radiographien automatisch korperregionen zugeordnet werden experimente',\n",
       " 'planungstechnik und deklarative programmierung zusammenfassung im bereich planungstechnik und deklarative programmierung de gmd instituts fur rechnerarchitektur und softwaretechnik first werden forsch',\n",
       " 'sifdashvw eine integrierte system architektur fur agenten und benutzer in virtuellen welten ein jungster trend in forschungsbereich um virtuelle umgebungen zeigt sich in der verknupfung von techniken ',\n",
       " 'verteilte interaktive medien in der vorliegenden arbeit wird gezeigt das verteilte interaktive medien eine homogene medien klasse bilden insbesondere ermoglichen e vertreter dieser klasse das eine ver',\n",
       " 'transparentes management von mobilkommunikation autonome fahrzeuge werden in immer ausgedehnteren einsatzumgebungen eingesetzt neben der eigentlichen zielsetzung der autonomie in der vorgesehenen eins',\n",
       " 'generatorunterstutzte objektorientierte entwicklung multimedialer lehr und lernsysteme zur effizienzsteigerung und qualitatsverbesserung die entwicklung von multimedia anwendungen und multimedialen le',\n",
       " 'olap auswertung von web zugriffen die analyse de zugriffsverhaltens auf web seiten ist von groser wichtigkeit um die attraktivitat und nutzlichkeit von internet angeboten zu bewerten und ruckschlusse ',\n",
       " 'da vorgehensmodell vipso berucksichtigung rechtlicher einflusse auf die swdashentwicklung zusammenfassung die entwicklung von software wird durch eine vielzahl von faktoren beeinflut neben faktoren au',\n",
       " 'datenbank reorganisation bei relationalen datenbank management systemen reorganization of relational database relationale datenbank management systeme dbmse zeichnen sich dadurch au das der benutzer w',\n",
       " 'da view4you system end todashend evaluation diesis verfahren wird in dem am isl entwickelten view4yousystem 10 eingesetzt welches mittels spracherkennung transkripte der ardtagesschau erzeugt in diese',\n",
       " 'ein generalisiertes verfahren zur berechnung von translationsinvarianten zirkulartransformationen fur die anwendung in der signal und bildverarbeitung mit hilfe schneller nichtlinearer spektraltransfo',\n",
       " 'entwicklung und einsatz multimedialer werkzeuge fur die internet unterstutzte lehre kurzfassung an der technischen universitat dresden wurden in den letzten jahren umfassende neue moglichkeiten der on',\n",
       " 'bedarfsgesteuerte bildubertragung mit region of interest und level of detail fur mobile umgebungen mit der zunehmenden verbreitung portabler rechner und gsm basierter datenfunkeinrichtungen erlangt di',\n",
       " 'die eignung von linux fur zeitkritische anwendungen zeitkritische anwendungen erfordern die reproduzierbarkeit de zeitablaufs bei der programmausfuhrung innerhalb eines vorgegebenen toleranzrahmens dy',\n",
       " 'realitatsbezug von informationsmodellen eine erwiderung auf kritik einleitung roland kaschek hat in seinem beitrag schwachstellen einer analyse de modellbegriffs meinen beitrag zum realitatsbezug von ',\n",
       " 'interaktive lernsysteme im fernstudium betrachtung eines programmierkurses im zeitraffer die fernuniversitat und andere fernstudieneinrichtungen in europa bedienen seit etwa 25 jahren eine zunehmende ',\n",
       " 'innovationsmanagement marktgangigkeit und chancenkapital innovationen fallen nicht vom himmel gerade in den sehr dynamischen telematikmarkten werden die innovationsfahigkeit und freude von unternehmen',\n",
       " 'realzeitfahige serielle datenubertragung mit fehlerkorrektur ein speziell fur realzeitfahige kommunikationsanwendungen mit kurzen telegrammlangen ausgelegtes verfahren wird beschrieben e stellt sicher',\n",
       " 'bilder au diagnostik und behandlungsplanung in der strahlentherapie zur auswertung von online daten mit neuronalen netzen die technik der elektronischen portalbilder konnte sich zu einem wichtigen wer',\n",
       " 'digitalisierdaten fur die 3ddashmodellrekonstruktion unterschiedlicher anwendungsbereiche nutzen reverse engineering da 3ddashdigitalisieren physischer modelle erfolgt immer dann wenn kein rechnerinte',\n",
       " 'flachendeckendes explorieren und navigieren in priori unbekannter umgebung mit low cost robotern autonome mobile serviceroboter mit flachendeckender fahrweise konnen fur alle arten der untergrundbearb',\n",
       " 'modellierung und unterstutzung verfahrenstechnischer modellierungsprozesse die mathematische modellierung verfahrenstechnischer produktionsprozesse ist die voraussetzung fur die durchfuhrung von simul',\n",
       " 'lehrbuch der programmierung mit java class element abstract boolean gleich element zuvergleichen static int id int id element id id prog 76 die abstrakte klasse element lehrbuch der programmierung mit',\n",
       " 'lokalisation mibiler roboter durch dampfungsmuster de untergrundes an mobile robotersysteme die sich innerhalb von gebauden bewegen werden hohe anforderungen bezuglich ihrer flexibilitat und betriebss',\n",
       " 'themenspezifische informationssuche im internet mit hilfe mobiler programme da forschungsgebiet der informationssuche information retrieval wird durch da aufkommen de internet bzw de world wide web mi',\n",
       " 'computergestutzte gruppenarbeit in der schule in den letzten zehn jahren wurden cscw technologien zur unterstutzung von gruppenarbeit entwickelt die sich bereits in unternehmen etabliert haben doch wa',\n",
       " 'validierung software intensiver eingebetteter systeme zusammenfassung eingebettete systeme sind au unserer taglichen umgebung nicht mehr wegzudenken man findet sie in haushaltsgeraten und kraftfahrzeu',\n",
       " 'zum einsatzpotential von ordbms in entwurfsumgebungen die hersteller relationaler datenbankverwaltungssysteme rdbms haben ihre produkte in der neuesten generation um typisch objektorientierte konzepte',\n",
       " 'internet telefonie eine alternative zum klassischen telefon netz zusammenfassung internet telefonie oder voice over ip voip ist noch eine sehr junge technologie die sich erst in den letzten jahren ua ',\n",
       " 'strukturanalyse und morphometrie interagierender gefasysteme am beispiel der menschlichen leber eine gruppe von methoden zur charakterisierung ineinandergreifender gefasbaume wird vorgestellt wir pras',\n",
       " 'robosense ein kletterroboter zur inspektion von brucken und staudammen die inspektion von grosen bauwerken wie schornsteine kuhlturme brucken oder staudamme mit autonomen systemen stellt immer noch ei',\n",
       " 'healthcare portale kundenzentrierung in der pharmaindustrie kundenzentrierung gilt schon seit langem al kritischer erfolgsfaktor fur unternehmen in der pharmaindustrie die aufgrund starker staatlicher',\n",
       " 'automatische detektion und auswertung von verkalkungen der koronararterien in ebct und spiral ctdashbilddaten vorgestellt wird ein bildanalysesystem fur die auswertung von ebct und spiral ctdashbildda',\n",
       " 'telelernen eine osterreichische bestandsaufnahme die vom osterreichischen bundesministerium fur wissenschaft und forschung und vom osterreichischen bundesministerium fur arbeit gesundheit und soziales',\n",
       " 'gruppierung von kontursegmenten mit mechanismen perzeptiver gruppierung da menschliche visuelle system ist in der lage spontan die dinge de sehfeldes zu strukturieren diese strukturbildung verleiht de',\n",
       " 'iloveyou viren und anderes gewurm bevor wir zum titelthema kommen mochte alois geziemend darauf hinweisen das am weitukah wirbel y2k wie in pik 99 vorhergesagt nichts aber auch uberhaupt nichts dran w',\n",
       " 'ein hybrider ansatz fur image retrieval in medizinischen wbt systemen im rahmen de www projekts murmel multimediales ausbildungssystem fur die medizinische lehre erfolgt momentan die entwicklung eines',\n",
       " 'confocale fluoreszenzmikroskopie mit ccd sensoren geschwindigkeit durch parallelisierung low cost uber mehr elektronik mit ccd sensoren gelingt e einige megapixel in einem frame confocal aufzunehmen d',\n",
       " 'innovative steuerungstechnik in der robotik steuerungstechnik spielt al innovationsfaktor fur produkte und produktionssysteme der automatisierungstechnik und robotik eine entscheidende rolle begunstig',\n",
       " 'segmentbestimmung im computertomogramm der lunge indashvitro validierung fur die radiologische diagnostik ist die kenntnis der lungenlappensegmente zur segmentgenauen berechnung von ctdashfunktionspar',\n",
       " 'cobricks eine agentenbasierte infrastruktur fur community anwendungen rechnergestutzte community unterstutzungssysteme wie zb web basierte schwarze bretter themen portale buddy list oder recommender s',\n",
       " 'abhangigkeit von interstimulusintervallen und aufnahmegeschwindigkeit bei der bildakquisition schneller ereigniskorrelierter funktioneller mri im bereich der funktionellen bildgebung de menschlichen g',\n",
       " 'stereozuordnung von hierarchischen konturgruppen mit markov random field in dieser arbeit wird ein ansatz zur detektion von korrespondenzen in stereobildern vorgestellt der nach perzeptiven gesichtspu',\n",
       " 'rapid prototyping von integrierten steuerungssystemen diesis themenheft stellt ergebnisse au dem schwerpunktprogramm rapid prototyping von integrierten steuerungssystemen mit harten zeitbedingungen de',\n",
       " 'security und feldbusse ein widerspruch konkreter bedeutet sicherheit fur die verarbeiteten daten in der informationstechnik das die folgenden anforderungen erfullt werden vertraulichkeit confidentiali',\n",
       " 'semiautomatische kohasionsbasierte subsystembildung die klassenstruktur objektorientierter systeme al standardmasige abstraktionsschicht ist fur grose systeme auf designebene zu feingranular und mit z',\n",
       " 'sicherheit im electronic commerce security in electronic commerce viele unternehmen sind unsicher bei der nutzung de internet fur ihre geschaftstatigkeiten die haupthemmnisse fur den einstieg in den e',\n",
       " 'automatische registrierung von ct und mrdashbildfolgen fur die dreidimensionale planung von huftoperationen die einbeziehung multimodaler bildinformationen au der computer und magnetresonanztomographi',\n",
       " 'echelon auf dem parlamentarischen prufstand e ist zu begruen das der europaausschuss de deutschen bundestages im anschluss an die diskussionen im europaischen parlament da thema echelon auf seine tage',\n",
       " 'dynamische ablaufanderungen in workflow management systemen workflow management systeme wfms unterstutzen die elektronische abwicklung von arbeitsprozessen engl workflow heutige wfms erzwingen meist d',\n",
       " 'ein radiologisches softwaremodul fur die computergestutzte operationsplanung in der onkologischen leberchirurgie gerade in der leberchirurgie ist die computergestutzte planung chirurgischer eingriffe ',\n",
       " 'entfaltung von indashvivo ultraschall bdashbildern fur die computergestutzte gewebedifferenzierung anhand von ultraschall bdashbildern sowie fur die bildhafte darstellung gewebespezifischer parameter ',\n",
       " 'perspektiven der bioinformatik in der funktionellen genomforschung die bioinformatik gilt zurzeit al die schlusseltechnologie im life science bereich die bioinformatik ubernimmt da informationsmanagem',\n",
       " 'erfahrungen und gedanken zur frauenforderung in der informatik informatik spektrum bd 23 febr 2000 schreibt der prasident der gi mayr nur frau und manner gemeinsam konnen die aufgaben der komplexen un',\n",
       " 'interpretation von videobildfolgen zur beobachtung artikularer bewegung von personen anhand eines generischen 3ddashobjektmodells die videobasierte objektlokalisation ist au anwendungen zur vermessung',\n",
       " 'testmetriken fur objektorientierte bankenanwendungen dieser beitrag beschreibt den ansatz de autors die fehlerrate bei grosen objektorientierten anwendungssysteme im bezug auf die wachsende grose und ',\n",
       " 'effiziente bewegungserfassung de augenhintergrundes e wird ein verfahren zur automatischen detektion von augenbewegungen vorgestellt mit dem untersuchungen zur erfassung der dynamischen blicksteuerung',\n",
       " 'verbundkaufe in warenkorbdaten der begriff knowledge discovery in database kdd umfasst den vollstandigen prozess de entdeckens interessanter zusammenhange in form von mustern in grosen datenbestanden ',\n",
       " 'liebe mitglieder der gesellschaft fur informatik ist im amt in seinem namen danke ich ihnen herzlich fur da un entgegengebrachte vertrauen de weiteren ist herr jurgen maas seit dem januar 2000 alleini',\n",
       " 'edashmotion uber elektronische formen der bewegung und die gestaltung von interaktionssystemen die neuen medien gewinnen und verandern ihre gestalt im gebrauch gestalter der neuen medien sind die nutz',\n",
       " 'virtuelle endoskopie de ventrikelsystems in kombination mit der intraoperativen neuronavigation simulation endoskopischer operationen bei verschlusshydrocephalus zusammenfassung die virtuelle endoskop',\n",
       " 'corsair hw swdashcodesign von kommunikationssystemen mit sdl zusammenfassung der artikel beschreibt die corsair umgebung codesign and rapid prototyping system for application with realtime constraint ',\n",
       " 'rapid prototyping von videosignalverarbeitungsverfahren rapid prototyping of video processing scheme fur die implementierung von videosignalverarbeitungsverfahren bildtelefonie nach ccitt h263 oder mp',\n",
       " 'augen und ohren fur ihr schlafzimmer temperatur optimale luftfeuchtigkeit ihre lieblingsmusik kurz fur ihr wohlbefinden sorgt wenn sie von ihrem intelligenten spiegel etwa bei der morgentlichen pflege',\n",
       " 'interaktive lehrformen im hochschulbetrieb neue herausforderungen al medium fur lehrveranstaltungen bietet da internet gegenuber den klassischen medien verteilter lehre fernsehen radio weitaus mehr mo',\n",
       " 'die erfassung von personalaufwand im itdashbereich ein wichtiger teil der aufwande eines itdashbereiches sind personalaufwande die man nur dann sinnvoll al informationsquelle verwenden kann wenn man s',\n",
       " 'bayesian belief network in der 3ddashobjekterkennung wir benutzen zur 3ddashobjekterkennung einen statistischen klassifikator der auf bayesian belief network aufbaut gegenuber verbreiteten neuronalen ',\n",
       " 'seminare im internet ein werkstattbericht au dem projektverbund virtueller campus hannover hildesheim osnabruck der artikel gibt einen werkstattbericht uber die entwicklung de lehrmoduls mensch maschi',\n",
       " 'data encryption standard de der data encryption algorithm dea ist da erste und bi heute einzige in einem internationalen standard spezifizierte verschlusselungsverfahren de auf initiative de amerikani',\n",
       " 'simulation der elektrischen erregung im herzen auf patientendatensatzen diese arbeit beschreibt die simulation der elektrischen erregungsausbreitung im menschlichen herzen unter verwendung physiologis',\n",
       " 'rapid prototyping von realzeitsystemen mit sdl da ziel von rapid prototyping ist die verringerung von entwicklungszeiten und kosten durch fruhzeitige ausfuhrung der spezifikation auf einem prototypen ',\n",
       " 'modellierung und verwaltung hierarchisch strukturierter informationen in relationalen datenbanksystemen in diesem paper werden hierarchien in relationale datenbanksysteme eingefuhrt die anfragesprache',\n",
       " 'telekooperation in beziehungsnetzwerken fur intormationsbezogene dienstleistungen der ubergang au der industriegesellschaft in da informationszeitalter fuhrt zu grundlegend neuen paradigmen bedingt du',\n",
       " 'kolibri entwicklung von modellen und werkzeugen fur kooperative digitale handbibliotheken dieser beitrag beschreibt die arbeitsergebnisse de kolibri projektes da sich die unterstutzung kooperativer pr',\n",
       " 'erkennung von konstruktionshandlungen au bildfolgen in diesem artikel wird ein bildbasierter ansatz zur analyse von konstruktionshandlungen vorgestellt die mit den handen durchgefuhrten objektmanipula',\n",
       " 'hierarchische graphen zur wegesuche in dieser arbeit wird ein zwei phasenmodell zur effizienten entfernungsberechnung in gewichteten graphen untersucht bekannte anwendungsgebiete sind verkehrsinformat',\n",
       " 'komponentenbasierte konstruktion flexibler software entwicklungswerkzeuge soft ware entwicklungswerkzeuge werden fur verschiedene aufgaben innerhalb eines entwicklungsprozesses eingesetzt und dabei vo',\n",
       " 'orthogonale walsh korrelation zur qualitativen beurteilung der reaktivitat von betriebssystemen mochte man herausfinden ob sich ein bestimmtes betriebssystem fur die bearbeitung eines gegebenen proble',\n",
       " 'zur validierung der spezifikationen von videobildverarbeitenden komponenten unter realen anwendungsbedingungen die vorliegende publikation ist urheberrechtlich geschutzt alle rechte auch die der ubers',\n",
       " 'einbettung von interpolationsfunktionen in die datenbanksprache sql datenbankunterstutzung fur die umweltforschung diese arbeit begann im rahmen de interdisziplinaren umweltforschungsprojekts naturmes',\n",
       " 'marvins sieg im millennial event erfolg durch minimale losungen marvin ist ein autonom fliegender beobachtungs und erkundungsroboter auf basis eines modellhubschraubers der im rahmen von projekt lehrv',\n",
       " 'die verarbeitung von parallelismus constraint parallelismus constraint sind partielle beschreibungen von baumen wir verwenden sie al reprasentationsformalismus in der unterspezifizierten naturlichspra',\n",
       " '3ddashvolumenbeschneidung bei der voxelbasierten registrierung medizinischer bilddaten verfahren und quantitative analyse ein verfahren zur berechnung der gemeinsamen voxel in zwei beliebig zueinander',\n",
       " 'kategorisierung von digitalen rontgenbildern mit parametrisierbaren formmodellen die automatische kategorisierung von bildern im zusammenhang mit digitalen bildarchiven erlangt in der medizinischen in',\n",
       " 'theoretische analyse evolutionarer algorithmen unter dem aspekt der optimierung in diskreten suchraumen evolutionare algorithmen ea sind allgemeine randomisierte suchverfahren die unter anderem zur op',\n",
       " 'schule und da neue medium internet nicht ohne schulerinnen und lehrerinnen da internet al ein teil der neuen information und kommunikationstechnologien hat in den letzten jahren eine solch grose verbr',\n",
       " 'weiterentwicklung einer laufmaschine fur rohre in diesem paper wird der rohrkrabbler moritz vorgestellt welcher an der technischen universitat munchen gebaut wurde al erstes wird die konstruktion und ',\n",
       " 'entwurf von autonomen systemen mit high level petrinetzen in diesem papier wird vorgestellt wie autonome systeme auf der basis von erweiterten pr tdashnetzen entworfen werden konnen die vorgestellte m',\n",
       " 'embedded linux embedded systemen bestehend au miniaturisierter hardund spezifischer software kommt eine immer groere bedeutung sowohl im privaten bereich al auch der industrie zu im haushalt kommunizi',\n",
       " 'regionale elektronische zeitungen qualitatskriterien und evaluierung regionale und lokale zeitungen sind durch besondere qualitatsmerkmale gekennzeichnet die im vorliegenden beitrag diskutiert werden ',\n",
       " 'computerassistierte radiologie car in der mammographie die treffsicherheit bei der beurteilung pathologischer zustande an hand radiologischer bilder ist von apparativen einflusgrosen und subjektiven w',\n",
       " 'nachtschicht der kurspcs computer cluster unter linux die gwdg betreibt seit zwei jahren auf ihren kursrechnern ein compute cluster im vollautomatischen schichtbetrieb die rechner werden tagsuber mit ',\n",
       " 'algorithmische strategien fur anwendbare reelle quantorenelimination eines der bedeutendsten verfahren zur reellen quantorenelimination ist die quantorenelimination mittels virtueller substitution die',\n",
       " 'grefit ein system zur visuellen erkennung von handposturen unsere hande benutzen wir alltaglich und standig ohne un dessen bewusst zu sein zur interaktion mit objekten oder zur kommunikation sowohl vo',\n",
       " 'imaginale prototypen al analogische formreprasentation dreidimensionaler objekte bildhafte reprasentationen werden in der kunstlichen intelligenz zwar schon seit langer zeit in verschiedenen kontexten',\n",
       " 'robuste erkennung von straenfahrzeugen im ruckraumbereich eines straenfahrzeuges in diesem beitrag wird ein verfahren zur spurgenauen objekterkennung und abstandsbestimmung von strasenfahrzeugen im ru',\n",
       " 'technology binding man fur anwendungsspezifische schaltungen zunachst entwurfstile entwickelt die einen hohen automatisierungsgrad zulassen diese reichen von standardzelltechnologien uber sog maskenpr',\n",
       " 'messen von weichen faktoren ein erfahrungsbericht kooperative partizipative arbeitsweisen in der softwareentwicklung machen e notwendig auch die weichen faktoren in einem metriken programm zu berucksi',\n",
       " 'bezahlen in der virtuellen universitat da internet wird an der fernuniversitat in hagen seit 1996 intensiv fur effektives und flexibles lernen genutzt da projekt virtuelle universitat bildet alle funk',\n",
       " 'virtuelles konstruieren mit gestik und sprache im bielefelder labor fur kunstliche intelligenz und virtuelle realitat liegt der forschungsschwerpunkt auf der integration von gestischer und sprachliche',\n",
       " 'konzepte und techniken der datenversorgung fur informationssysteme zusammenfassung alle informationssysteme benotigen und erzeugen daten kurz jedes system benotigt eine datenversorgung in dieser arbei',\n",
       " 'ein dienstbasierter ansatz fur die parallele programmierung mit corba zusammenfassung da spezielle informatik teilgebiet der parallelen programmierung bedient sich in der praxis vorwiegend vorherrsche',\n",
       " 'automatische endokarderkennung in 3d mit approximierenden thin plate spline unter einsatz von gau schen mischverteilungs modellen fur die lokale klassifikation bei der segmentierung von verrauschten u',\n",
       " 'mpegdash4 der neue austauschstandard fur autorensysteme in der fernlehre der virtuellen universitat um den neuen anforderungen an die bildungssysteme gerecht zu werden wurde an der fernuniversitat hag',\n",
       " 'waveletbasierte visualisierung von ultraschall volumendaten in dieser arbeit1 wird die notwendigkeit fur die entwicklung spezieller verfahren zur visualisierung von ultraschall volumendaten erlautert ',\n",
       " 'prozessorientierte konfiguration komponentenbasierter anwendungssysteme betriebliche anwendungssysteme basieren heute vornehmlich auf monolithischen standardsoftware produkten e ist jedoch absehbar da',\n",
       " 'innovative techniken fur testumgebungen von digitalen bausteinen innovative test environment technique of digital component um die funktionale testkomplexitat zu verringern mus man innovative technike',\n",
       " 'da generalisierte positionsspektrum der zirkulartransformationen basierend auf der klasse der zirkulartransformationen wird ein generalisiertes positionsspektrum vorgestellt die berechnung de position',\n",
       " 'intrusion detection systeme id die entwicklung von intrusion detection system id eindringungs erkennungssysteme wurde durch verschiedene prinzipielle und praktische grenzen von firewall systemen motiv',\n",
       " 'informationskompetenz europaischer volkswirtschaften e wird versucht quantitative werte zur messung der informationskompetenz von volkswirtschaften zu entwickeln zudem sollen korrelationen zwischen de',\n",
       " 'weiterentwicklung objektorientierter softwaresysteme risiken und deren vermeidung vererbung gehort zu den wichtigsten mechanismen objektorientierter programmierung durch vererbung konnen vorhandene im',\n",
       " 'brave new world oder der 31 dezember 1999 und die jahre danach dr elmar holler leiter der abteilung steuerungssysteme und kommunikation am institut fur angewandte informatik de forschungszentrums karl',\n",
       " 'entwicklung einer helikopterdrohne fur den wissenschaftlichen einsatz unbemannte und autonome fluggerate bieten in besonderem masse die moglichkeit wissenschaftliche und technologische untersuchungen ',\n",
       " 'hybridhypersigns semiotische parameter elektronisch vernetzter dokumente hypertexte sind in der vergangenheit vor allem in ihrer eigenschaft al vernetzte informationssysteme analysiert worden weniger ',\n",
       " 'extensible markup language xml die extensible markup language xml ist eine vom w3w konsortium spezifizierte meta beschreibungssprache fur strukturierte daten darunter werden dokumente verstanden die e',\n",
       " 'forschungs und entwicklungsprojekte zum thema electronic commerce in dieser rubrik erscheinen in unregelm aiger folge kurzdarstellungen geplanter laufender oder abgeschlossener projekte die darstellun',\n",
       " 'erfahrungen mit embedded linux eine besondere domane fur embedded linux sind gateway zwischen industriesteuerungen und dem web hierfur sind die echtzeiterweiterungen auf der einen seite und die hervor',\n",
       " 'softwarewerkzeuge zur entwicklung multimedialer anwendungen multimediale techniken gehoren inzwischen zur standardausstattung fast jedes neuen arbeitsplatzrechners in dem durch da fernsehen gepragten ',\n",
       " 'bewertung der benutzbarkeit einer beratungssoftware fur da kleben von der festlegung aller fur eine klebung wichtigen merkmale bi zur erstellung der arbeitsanweisungen konnen alle einzelentscheidungen',\n",
       " 'ein berechnungsmodell fur situatives agieren die arbeit entwickelt ein neues modell zur programmierung flexibler agenten basierend auf dem prinzip de situativen agierens demnach konstituiert sich reak',\n",
       " 'universitat gh essen relationen sind beziehungen zwischen begriffen niewerth schroder lexikon der planung und organisation quickborn 1968 erlauterung der begriff relation hat hier die bedeutung eines ',\n",
       " 'oscar eine systemarchitektur fur den autonomen mobilen roboter marvin die struktierte entwicklung verteilter software fur autonome systeme stellt nicht zu unterschatzende anspruche an da design unter ',\n",
       " 'regelung eines mobilen manipulator zum zielgerichteten schieben da kontrollierte schieben von gegenstanden bietet gegenuber dem greifen eine reihe von vorteilen in diesem artikel wird ein regler vorge',\n",
       " 'entwurf einer industriell nutzbaren metriken datenbank der einsatz von metriken gewinnt innerhalb der industriellen softwareentwicklung zunehmend an bedeutung insbesondere fur eine qualitative und qua',\n",
       " 'gleichungen mit regularen randbedingungen uber freien gruppen wir beweisen da da erfullbarkeitsproblem fur gleichungen mit regularen randbedingungen uber freien gruppen pspace vollstandig ist wir zeig',\n",
       " 'komponenten zur unterstutzung der automatischen bildsegmentierung von ctdashaufnahmen der leber fur die computergestutzte operationsplanung in der leberchirurgie mus zunachst die leber segmentiert wer',\n",
       " 'bildverarbeitungsstrategien zur koordination von sehen und gehen bei laufmaschinen ein bisher nur am rande behandeltes zentrales forschungsziel beim technischen gehen ist die zielorientierte bildverar',\n",
       " 'da regionale hochschul rechenzentrum kaiserslautern rhrk in absprache mit der chefredaktion der pik und dem zki ev sollen an dieser stelle in loser folge selbstdarstellungen von hochschul rechenzentre',\n",
       " 'analyse von hardwarefehlern in vermittlungseinheiten digitaler netze diese arbeit widme ich meinen sohnen nicolas und maximilian\\n',\n",
       " 'generierte dbdashaufrufschnittstellen anwendungsspezifische zugriffsoptimierung durch bindungsflexibilitat zusammenfassung jede datenbankprogrammierschnittstelle mu sich daran messen lassen inwieweit ',\n",
       " 'integration von internetdatenbanken mit eingeschrankten anfragemoglichkeiten die integration von internetdatenbanken ist ein aktuelles forschungsgebiet welches auf neu entwickelten losungen au dem ber',\n",
       " 'integral methodische integration multimedialer und interaktiver lernwerkzeuge zur optimierung der gestaltungskompetenz in der arbeitswissenschaftlichen lehre in dem vorliegenden beitrag wird ein lernw',\n",
       " 'kreativitat in der informatik anwendungsbeispiele der innovativen prinzipien au triz dieser beitrag entstand im rahmen eines fortgeschrittenenpraktikums da die untersuchung und nutzung kreativer aspek',\n",
       " 'in eigener sache angeregt durch diese entwicklung haben auch in deutschland verschiedene fachgesellschaften und landesarztekammern da modellprojekt zur continuing medical education cme weiter voranget',\n",
       " 'fpgas architekturen systeme und schaltungspartitionierung seit ihrer markteinfuhrung 1985 haben sich field programmable gate array fpgas in zahlreichen einsatzgebieten bewahrt vom einsatz al preiswert',\n",
       " 'simple cell model with dominating opponent inhibition for robust contrast detection zusammenfassungim primaren visuellen pfad wird information in zwei getrennten komplementaren domanen reprasentiert d',\n",
       " 'werkzeuge zur quantitativen analyse nuklearkardiologischer pet daten die starke der modernen nuklearmedizinischen diagnostik mit hilfe der positronen emission tomographie pet ist der einsatz physiolog',\n",
       " 'verwendung der lokalen kovarianz information zur bildverbesserung kleiner blutgefae in digitalen subtraktionsangiogrammen zerebrale blutgefase einer grose von weniger al einem millimeter in digitalen ',\n",
       " 'integration externer daten au dem internet in planungs und kontrollsysteme konzeption und entwicklung eines redaktions leitstands interne und externe fuhrungsinformationen zu kombinieren gewinnt fur d',\n",
       " 'foose eine integrierte formale softwareentwicklungsmethode die methode foose formal object oriented software engineering exemplifiziert eine auf der unified modeling language uml basierende integriert',\n",
       " 'beschleunigung und bewertung blockbasierter bewegungsschatzmethoden fur die rontgenfluoroskopie ausgehend von einem fur die rontgenfluoroskopie entwickelten blockbasierten bewegungsschatzer mit voller',\n",
       " 'ein zwei kartne verfahren zur gleichzeitigen kartographierung und lokalisierung bei der kartographierung eines unbekannten gebietes durch einen mit sensorik ausgestatteten mobilen roboter ergibt sich ',\n",
       " 'serviceroboter al leitprodukte der zukunft derzeitig findet ein technologiewandel im bereich der robotik statt wahrend industrieroboter fester bestandteil moderner produktionsstatten sind und in immer',\n",
       " 'die geregelte logische uhr eine globale uhr fur die tracebasierte uberwachung paralleler anwendungen da aufzeichnen und darstellen de programmflusses sowie de nachrichtenaustauschs paralleler anwendun',\n",
       " 'aachen munchener teleteaching unter best effort bedingungen im rahmen von diskussionen uber die zukunft der au und weiterbildung gewinnen stichworte wie teleteaching telelearning und virtuelle hochsch',\n",
       " 'gliederung und systematisierung von schutzzielen in itdashsystemen seit vielen jahrzehnten wird uber zur sicherheit und zuverlassigkeit von itdashsystemen nachgedacht geforscht und an losungen entwick',\n",
       " 'prof heinz zemanek zum 80 geburtstag wir treffen un in stuttgart um die groen linien seiner arbeiten zur informationstechnik revue passieren zu lassen schwierigkeiten habe ich sein anhaltendes interes',\n",
       " 'erfahrungen in der anwendung eines allgemeinen objektorientierten measurement framework die einfiihrung und anwendung von metrikenprogrammen in den verschiedensten bereichen der software entwicklung w',\n",
       " 'ada magica prokrustes hat allerdings schlau wie er ist er stammt ja schlielich au einer uralten rauberfamilie inzwischen den wechselapparat gegen den eines anderen herstellers ausgetauscht al alexeus ',\n",
       " 'remark on the behavioristic analysis of competitive reaction bemerkungen zur behavioristischen analyse von wettbewerbsreaktionen zusammenfassung eine der vordringlichsten gegenwartigen herausforderung',\n",
       " 'funktionen und architektur einer internet lernumgebung fur individuelles und kooperatives lernen virtuelle lehrangebote werden im angebotsspektrum der hochschulen einen hohen anteil erreichen um die v',\n",
       " 'electronic commerce und mehrseitige sicherheit baustellen fortschritte und perspektiven zusammenfassung mit der bedeutung de edashcommerce wachst auch da schadenspotential da au einer unzureichenden a',\n",
       " 'auf dem weg zu einer groupware didaktik erfahrungen und konzepte au den schulungen in cuparla unspecified posted at the zurich open repository and archive university of zurich zora url http doi org 10',\n",
       " 'erfahrungen mit vhdl am bei der simulation heterogener systeme zusammenfassung vhdl am ist eine hardwarebeschreibungssprache mit der digitale analoge und gemischt analogdigitale systeme simulatorunabh',\n",
       " 'modellierung und simulation hybrider systeme mit smile zusammenfassung e wird eine werkzeugunterstutzte entwicklungsmethodik vorgestellt die der erstellung von berechnungsmodellen fur die simulation h',\n",
       " 'die bewertung von kreditgarantien mittels hyperoptionen zusammenfassung au finanzwirtschaftlicher sicht konnen kreditgarantien al verkaufsoptionen auf da anteilige gesamtvermogen einer unternehmung in',\n",
       " 'interview der neoliberalismus gibt sich al losung eklatanter sozialer und okonomischer probleme au mit denen die entwickelten kapitalistischen okonomien seit etwa dreiig jahren zu kampfen haben wie er',\n",
       " 'untersuchungen zu raumlichen benutzerschnittstellen am beispiel der prasentation von stadtinformationen schwerpunkt der arbeit ist die auseinandersetzung mit den moglichkeiten und grenzen der desktopd',\n",
       " 'conjointanalyse basierte produkt linien gestaltung unter berucksichtigung von konkurrenzreaktionen conjoint based product line design considering competitive reaction zusammenfassung ausgangspunkt uns',\n",
       " 'dynamische systeme zur verhaltensgenerierung eines anthropomorphen roboters autonome systeme organisieren ihr verhalten auf der basis der uber ihre sensoren aufgenommene information um ein in der real',\n",
       " 'segmentierung de gehirns auf der basis von mrdashdaten e wird ein segmentierungsverfahren vorgestellt da bei t1dashgewichteten mr aufnahmen liquor cortex und weise materie trennt da verfahren korrigie',\n",
       " 'qualitatssicherung lagerlogistischer steuerungssoftware durch simulation prufung de systemdurchsatzes ob die gewunschte ausbringungsmenge pro zeiteinheit abgegeben werden kann diese frage wird im rahm',\n",
       " 'komplexitatsreduktion in der szenarioanalyse mit hilfe dynamischer fuzzy datenanalyse zusammenfassung ein ziel der szenarioanalyse ist die vorwegnahme moglicher zukunftiger entwicklungen hierbei mocht',\n",
       " 'prototyping einer fahrzeugsteuerung in virtueller 3ddashumgebung prototyping mit 3ddashmodellen in virtueller umgebung ist eine kostengunstige alternative zur entwicklung von physikalischen modellen u',\n",
       " 'automatische parameterwahl fur ballon modelle wir stellen eine automatische methode vor mit der auch nutzer ohne technisches wissen uber ballon modelle die notige parametrierung fur bildmaterial vorne',\n",
       " 'ein autonomer mobiler roboter mit elektronischer nase dieser beitrag stellt erste ergebnisse de projekts sinnesorgane fur mobile roboters1 vor ein teilziel dieser gemeinschaftsarbeit ist e einen mobil',\n",
       " 'prognosen und thesen nicht nur zum schmunzeln sentiere ich in dieser arbeit 60 gruppen von aussagen die zu dem zeitpunkt zu dem sie gemacht wurden prognosen uber zukunftige technische entwicklungen wa',\n",
       " 'zwischenbetriebliche elektronische katalogsysteme netzwerkstrategische gestaltungsoptionen und erfolgsfaktoren zusammenfassung da internet und darauf aufbauende technologien eroffnen neue potentiale f',\n",
       " 'entwurf und implementierung eines sql normkonformen datenbankkatalogs fur ein relationales datenbankmanagementsystem zusammenfassung bei relationalen datenbanksystemen haben sich dedashjure norman fur',\n",
       " 'merkmalsbasierte suche von diatomeen in bilddatenbanken unter verwendung von entscheidungsbaumen in diesem aufsatz wird ein schema fur ein merkmalsbasiertes verfahren zum auffinden von mikroskopischen',\n",
       " 'animation in einer hla federation im verbund von hla und java 3d liegt da potential die animation in dieser verteilten simulationsarchitektur auf eine hohere ebene zu bringen al e bisher der fall gewe',\n",
       " 'client server strategien zur visualisierung komplexer struktureigenschaften in digitalen dokumenten der chemie in der chemie wird in steigendem mae sowohl mit hochdimensionalen daten drei oder mehr di',\n",
       " 'leistungsbewertung von ccnuma systemen mit busadress trace zusammenfassung bei der entwicklung und dem betrieb von rechensystemen fur datenintensive anwendungen besteht immer ein bedarf an methoden un',\n",
       " 'da rechenzentrum der uni trier paradigmenwechsel im universitats rechenzentrum trier einleitung da universitats rechenzentrum trier urt war lange jahre eine auenstelle de regionalen hochschul rechenze',\n",
       " 'lokalisation de spinalkanals in ctdashschichten anhand der wirbelkorpersilhouette unter nutzung lokaler konturorientierung zur automatischen lokalisation de spinalkanals in ctdashschichten de hals und',\n",
       " 'effiziente laufzeitsysteme fur datenlager aktuelle dbms sind fur oltp anwendungen optimiert die anforderungen von olap und oltp anwendungen an da dbms unterscheiden sich erheblich wir habe einige dies',\n",
       " 'von rollenden schreibtischstuhlen und virtuellen studenten ethnographie einer televeranstaltung um neue lernformen in telematisch gestutzten kursen zu entdecken wird eine teilnehmende beobachtung am e',\n",
       " 'bonitatsprufung im versandhandel uber die konstruktion von entscheidungsbaumen die gewahrung von krediten spielt neben den bankinstituten auch fur industrie und handelsunternehmen eine zunehmende roll',\n",
       " 'effektiver einsatz grundlegender darstellungsprimitive zur informationsvisualisierung in dieser dissertation wird den fragestellungen der qualitat und nach qualitatssteigerung von visualisierungen nac',\n",
       " 'strukturelle abbildung von produktionsnetzwerken auf multiagentensysteme aufgrund der globalisierung von markten konnen unternehmen nicht mehr isoliert voneinander betrachtet werden sie sind vielmehr ',\n",
       " 'informationsfreiheitsgesetz schleswig holstein schleswig holstein war bisher immer etwas zuruckhaltender al andere lander wenn e um den abbau von burgerrechten ging mit einem neuen informationsfreihei',\n",
       " 'unterstutzung mobiler und drahtlos angebundener teilnehmer in verteilten corba architekturen die hier vorgestellte proxyplattform ii2 hat zum ziel mehrere unabhangigen entwicklungen zu vereinen und ef',\n",
       " 'diskriminative modellkombination in spracherkennungssystemen mit groem wortschatz veroffentlichungen und laborberichte sowie fur die stimulierende intellektuelle umgebung in der die arbeit ent stehen ',\n",
       " 'performance analyse einer biologisch motivierten steuerungsstrategie in den letzten jahren konzentrierten sich die meisten arbeiten in der hand auge koordination darauf regelungsstrategien zu entwicke',\n",
       " 'informatik in den sekundarstufen und ii unverzichtbar den erziehungsund bildungsauftrag der schule ist ein 1sachgerechtes selbstbestimmtes und kreatives handeln in sozialer verantwortunga blk 1995 15 ',\n",
       " 'grundkonzept der itdashfortbildung im bmi da konzept wird im auftrag de bundesministeriums de innern bmi in zusammenarbeit mit dem bundesamt fur sicherheit in der informationstechnik bsi von der albit',\n",
       " 'intelligente analyse multidimensionaler daten in einer visuellen programmierumgebung und deren anwendung in der krebsepidemiologie die analyse multidimensionaler daten wird aktuell unter schlagworten ',\n",
       " 'beitrage der computergraphik zur realisierung eines verallgemeinerten dokumentbegriffs dieser beitrag beschreibt anhand von vier projekten im dfg schwerpunktprogramm vd neue entwicklungen bei den drei',\n",
       " 'imippp international medical internet project of problem based pain management imippp ist ein internationaler online kurs fur europaische medizinstudenten innen und doktoren innnen schmerzdiagnostik u',\n",
       " 'eine heuristik fur multiple containerladeprobleme zusammenfassung der beitrag stellt eine heuristik fur multiple containerladeprobleme mclp dh containerladeprobleme mit mehreren containern vor mit der',\n",
       " 'ein objektmodell zur reprasentation und wiederverwendung verfahrenstechnischer prozemodelle in der verfahrenstechnik wird die entwicklung neuer und die verbesserung bekannter chemischer prozesse haufi',\n",
       " 'prazise fahrmanover fur fahrzeuge im gespann diese arbeit beschaftigt sich mit der kinematik von gespannen dazu wird ein abstraktes modell eines gespanns entworfen und dessen fahreigenschaften analyti',\n",
       " 'video ondashdemand in weitverkehrsnetzen vor ein paar jahren begann die bildung verschiedenster allianzen von computer und telekommunikationsindustrie mit dem ziel auf dem herbeigewahnten zukunftigen ',\n",
       " 'identifikation eines vereinigten modells fur ventilationsmechanik und gasaustausch bei maschineller beatmung die identifikation von ventilationsmechanik und gasaustausch mit einem vereinigten modell l',\n",
       " 'extreme programmieren extreme programming xp ist ein prozessmodell fur die objektorientierte softwareentwicklung wie der name andeutet handelt e sich um ein codezentriertes prozessmodell bei dem besti',\n",
       " 'architektur eines simulationsbaukastens basierend auf dem komponentenmodell javabeans modulare hierarchische modellierung und da komponentenmodell javabeans bilden die grundlage fur die entwicklung ei',\n",
       " 'modulare aufbereitung von multimedialen lerninhalten fur eine heterogene lernumgebung der einsatz multimedialer lerninhalte ist durch die vielfaltig vorhandenen und sich standig verbessernden technisc',\n",
       " 'itdashunterstutzter wissenstransfer in der internationalen forschung entwicklung ein praxisbericht uber den marktplatz de wissens der bmw ag die simultanen entwicklungsprozesse und die fortschreitende',\n",
       " 'interaktive medizinische volumenvisualisierung ein uberblick zusammenfassung die techniken zur volumenvisualisierung sind in den letzten jahren vor allem durch dedizierte hardwareunterstutzung so verb',\n",
       " 'effiziente 3ddashinteraktions und visualisierungstechniken fur benutzer zentrierte modellierungssysteme heute werden 3ddashmodellierungssysteme 3ddashcad systeme hauptsachlich in verbindung mit 2ddash',\n",
       " 'winkelbestimmung mittels fluchtpunkten in projektiv verzerrten einzelbildern e wird ein monokulares verfahren zur rekonstruktion von winkeln einer 3ddashszene speziell winkeln zwischen aneinandergrenz',\n",
       " 'spezifikations und memethodik fur ein adaptives dienstgutemanagement die beherrschbarkeit einer so komplexen aufgabe wie die verwendung adaptiver fehlertoleranzverfahren zum zwecke der dienstguteregel',\n",
       " 'propan ein retargierbares system fur postpassoptimierungen und analysen in diesem artikel wird ein system zur generierung maschinensensitiver postpassoptimierer und analysatoren auf assemblerebene vor',\n",
       " 'avanta automatische video analyse und textuelle annotation ziel de projektes avanta ist die erforschung und entwicklung neuer methoden zur syntaktischen und semantischen analyse von videosequenzen wel',\n",
       " 'kernspintomographie de innenohrs vergleich der darstellung mittels einer t2dashgewichteten turbo spin echo sequenz maximum intensitatsprojektionen und dreidimensionalen volumenrekonstruktionen zusamme',\n",
       " 'fg 2point1 aufruf zur teilnahme am fgdashtreffen am 30 nov und dez 2000 in langen vorschlage dazu sind herzlich willkommen wenn sie am treffen der fachgruppe teil nehmen wollen bitte ich sie unbedingt',\n",
       " 'lissyleichtbauarm mit innovativen sensoren und sensorbasierten steuerungssystemen fur produktion und dienstleistung im falle der robotertechnik kam e begleitet von einem kostenruckgang fur robotersyst',\n",
       " 'optimierte auslegung verteilter realzeitsysteme der entwurf verteilter realzeitsysteme ist uberaus komplex und manuell nur sehr aufwendig optimierbar um die kostenoptimierung durch geschickte auswahl ',\n",
       " 'bank2010 eine fachliche und technische vision der innerdeutsche bankenmarkt befindet sich derzeitig im umbruch fusionen zur konzentration sind dabei in jungster zeit vermehrt zu beobachten gestutzt au',\n",
       " 'adressabgleich mittels neuronaler netze bei versandhandelsunternehmen stammt da adressmaterial au unterschiedlichen internen quellsystemen sowie von externen adressbrokern adressen von eigenen kunden ',\n",
       " 'voronoi diagram partially supported by the deutsche forschungsgemeinschaft grant kl 655 2dash2\\n',\n",
       " 'ein werkzeugprototyp zum wiederverwendungsorientierten entwurf eingebetteter systeme teil tool prototype for the reuse oriented design of embedded system part der beitrag stellt einen werkzeugprototyp',\n",
       " 'ein offenes rahmensystem zur wissenskristallisierung okonomischer daten da ziel dieser arbeit war e die wissenskristallisierung okonomischer daten zu unterstutzen dazu wurde da system proseco providin',\n",
       " 'gesteigerte registrierungsgenauigkeit verrauschter bilddaten durch coincidence thresholding da fur die voxelbasierte registrierung verrauschter multimodaler bilddaten entwickelte schwellenwertverfahre',\n",
       " 'polarbug ein effizierter algorithmus zur reaktiven hindernisumfahrung im dauereinsatz mobile roboter werden in naher zukunft ein fester bestandteil unseres taglichen lebens sein wenn sich mobile robot',\n",
       " 'dynamische modelle fur reaktive systeme mit daten reaktive systeme sind systeme die waehrend ihrer laufzeit fortlaufend mit ihrer umgebung interagieren und auf externe ereignisse reagieren aufgrund ih',\n",
       " 'verteilte losung simulationsbasierter optimierungsprobleme auf vernetzten workstation in diesem beitrag wird eine architektur fur eine softwareumgebung vorgestellt die die verteilte losung typischer k',\n",
       " 'szenario die universitat im jahre 2005 szenario 2005 um sich auf dem bildungsmarkt behaupten zu konnen mussen universitaten und fachhochschulen ihre starken herausstellen und sich auf die neue konkurr',\n",
       " 'verfahren zur detektion der papille auf den fundusbildern die untersuchung der papille blinder fleck sehnervkopf auf dem augenhintergrund ist bei den zirkulationserkrankungen von groser bedeutung die ',\n",
       " 'optimierung ruckgekoppelter hyperpermutationsnetzwerke in dieser arbeit wird untersucht ob und wie man ruckgekoppelte hyperpermutationsnetzwerke trainieren kann um damit aufgaben der maschinellen wahr',\n",
       " 'restaurierung optischer tonspuren auf kinofilmen die schichttrager vieler kinofilme erreichen au chemischen und physikalischen grunden da ende ihrer haltbarkeit und beginnen zu zerfallen die konservie',\n",
       " 'robustes chunkparsing mit variabler analysetiefe da chunkparsing bietet einen besonders vielversprechenden ansatz zum robusten partiellen parsing mit dem ziel einer breiten datenabdeckung ziel beim ch',\n",
       " 'einflugroen von regularen preiselastizitaten preisaktionselastizitaten und kreuzpreiselastizitaten determinant of regular promotional and cross price elasticity zusammenfassung die einflugroen von str',\n",
       " 'objektorientierte daten und zeitmodelle fur die echtzeit bildfolgenauswertung in der vorliegenden arbeit werden neuartige konzepte fur die modellierung und reprasentation von bild und anderen sensorda',\n",
       " 'digitale langzeitarchivierung von medizinischen bildern um den zukunftigen aufgaben eines universitaren klinikbetriebes gerecht zu werden installiert gegenwartig die oit ein zentrales digitales archiv',\n",
       " 'quantitative analyse eines von protozoen erzeugten stromungsfeldes protozoen in biofilmen erzeugen durch strudelnde bewegungen eine mikrozirkulation im umgebenden wasser diese kann durch eingebrachte ',\n",
       " 'unicats ein system zum beherrschen der dienstevielfalt im bereich der wissenschaftlichen literaturrecherche die zahl der dienste zur recherche und beschaffung wissenschaftlicher literatur im internet ',\n",
       " 'bewegungsverfolgung de schlagenden herzens an hyperfein getaggten schichtverfolgenden cspamm aufnahmen in der vorliegenden arbeit wurde der strukturtensoralgorithmus ein allgemeines verfahren zur bewe',\n",
       " 'computer supported cooperative work cscw state of the art und zukunftige herausforderungen die informationstechnologische unterstutzung der gruppenarbeit steht etwa seit mitte der achtziger jahre im b',\n",
       " 'wissensbasierte optimierung von selbstorganisierenden merkmalskarten som zur analyse von funktionellen magnetresonanztomographien fmrt die funktionelle magnetresonanztomographie fmrt de gehirns ermogl',\n",
       " 'wegkoordination mehrerer mobiler roboter unter berucksichtigung deterministischer dynamischer hindernisse im rahmen der forschungsarbeiten auf dem gebiet der mobilen roboter beschaftigt sich da instit',\n",
       " 'wavelet basiertes verfahren zur selektiven kompression medizinischer bilddaten im vorliegenden beitrag wird ein auf der diskreten wavelet transformation basierendes verfahren zur selektiven kompressio',\n",
       " 'serviceflow management der artikel stellt den begriff serviceflow management zur diskussion und analysiert die uber workflow management hinausgehenden neuen herausforderungen an eine angemessene itdas',\n",
       " 'erzeugung eines planaren 3ddashmodells au kameraaufnahmen zur anwendung in der mobilen robotik im rahmen de projektes teach2serve wird ein modellierungsprozess benotigt welcher in der lage ist au kame',\n",
       " 'autonome fuhrung von serienfahrzeugen dieser beitrag stellt ein autonomes robotersystem zur autonomen fuhrung von serienfahrzeugen vor da systemkonzept ist in den wesentlichen modulen redundant ausgel',\n",
       " 'optischer miniatur 6dof lagesensor in diesem artikel wird eine moglichkeit vorgestellt wie mit minimalem hardwareaufwand alle freiheitsgrade einer relativen raumlichen lage gemessen werden konnen notw',\n",
       " 'iterative parameterbestimmung geometrischer modelle au gestorten dreidimensionalen grauwertbildern geometrische modelle bieten die moglichkeit bei der rekonstruktion von objekten au grauwertbildern se',\n",
       " 'leitungspradiktion von algorithmen zur mammographie bildauswertung der vorliegende ansatz zeigt neue methoden zur vorhersage der verfahrensleistung bei der detektion von mikrokalzifikationen in mammog',\n",
       " 'parallelisierung eines komplexen finite elemente programmsystems in der vorliegenden arbeit wird ein konzept zur parallelisierung de nicht linearen finite elemente paketes feps auf parallelrechnern mi',\n",
       " 'parallelisierbarkeit von multimedia anwendungen fur mehrfadig superskalare prozessoren am beispiel der mpeg 2dashdecodierung parallelizing multimedia application for simultaneous multithreaded process',\n",
       " 'data mining in der versicherungswirtschaft diese abhandlung basiert auf einer in einem grosen deutschen versicherungsunternehmen durchgefuhrten untersuchung deren aufgaben die auswahl eines data minin',\n",
       " 'elektronische geschaftsabwicklung mit zwischenbetrieblichem workflow im rahmen der elektronischen geschaftsabwicklung partizipieren mehrere beteiligte au den beiden branchen waren und finanzlogistik i',\n",
       " 'generierung von plattformunabhangigen benutzerschnittstellen fur einen corba basierten bildverarbeitungsserver da paper beschreibt ein system zur generierung von graphischen benutzerschnittstellen fur',\n",
       " 'ansichtenbasierte erkennung von fahrzeugen zur ansichtenbasierten detektion von fahrzeugen auf einzelbildern wird ein modellbasiertes strukturelles erkennungsverfahren eingesetzt fahrzeuge werden in e',\n",
       " 'verteilte steuerung heterogener mobiler roboter eine softwarearchitektur zur kontrolle heterogener mobiler roboter wird vorgestellt da system besteht au verhaltens und ressourcenkomponenten die vertei',\n",
       " 'initialisierung und unterstutzung virtueller gruppen durch icq die forschungsaktivitaten der arbeitsgruppe neue lehr und lernformen sind derzeit auf die untersuchung virtueller gemeinschaften am beisp',\n",
       " 'automatische bestimmung de arterie vene verhaltnisses auf retina tomograph bildern da auge ist da einzige menschliche organ wo da blut gefassystem ohne physikalische einwirkung beobachtbar ist eine an',\n",
       " 'qualitatssicherung fur software durch vertragsgestaltung und vertragsmanagement ein gemeinsamer plan ist die festlegung eines zukunftigen abgestimmten verhaltens der plan weist in die zukunft und soll',\n",
       " 'osek vdxdashos betriebssystemstandard fur steuergerate in kraftfahrzeugen die automobilindustrie hat sich in den vergangenen jahren zu einem der wesentlichen einsatzfelder von echtzeitanwendungen fur ',\n",
       " 'gestensteuerung fur fahrzeugbordsysteme gestenbedienung gewinnt fur die mensch maschine kommunikation zunehmend an bedeutung damit wird eine intuitivere interaktion zwischen benutzer und maschine ange',\n",
       " 'workshop seminare mit cscw unterstutzung inhalt beschreibung einer cscw gestutzten fernlehre fur prasenzstudierende im fach informatik und gesellschaft kritik und bewertung de medien einsatzes ausblic',\n",
       " 'entwicklung und analyse von verteilten zeitgesteuerten systemen zusammenfassung zeitgesteuerte systeme ermoglichen aufgrund ihres deterministischen verhaltens die realisierung von sicherheitskritische',\n",
       " 'alternative wege zur objektrekonstruktion au radon transformierten bilddaten in diesem beitrag werden methoden vorgestellt mit denen fur ctdashaufnahmen korrespondenzen zwischen punkten oder objekten ',\n",
       " 'eine simulationsanalyse zur beurteilung von markeninvestitionen simulation analysis of brand investment zusammenfassung insbesondere in den letzten 10 jahren ist eine vielzahl von unternehmenskaufen z',\n",
       " 'effektiver informationsaustausch durch ordbs basiertes web content management zusammenfassung web informationssysteme wi sind au keinem groseren unternehmen mehr wegzudenken in einem intranet oder ext',\n",
       " 'computerkommunikation im intranet aspekte und interaktionsbedingungen computerunterstutzter gesprache am beispiel von csile intranet gewinnen langsam ihre bedeutung da hangt damit zusammen das sich mi',\n",
       " 'wachstumsorientierte portfolioselektion auf der grundlage von zielerreichungszeiten zusammenfassung ausgehend von dem konzept der zeitoptimalen portfolio selection wird ein konkretes modell entwickelt',\n",
       " 'erkennen von blutgefaen in subtraktionsangiographischen bildern e wird ein neuer ansatz zur automatisierten segmentation von blutgefasen in subtraktionsangiographischen aufnahmen vorgeschlagen wegen g',\n",
       " 'prinzipien und derzeitige moglichkeiten der virtuellen endoskopie mit den begriffen virtuelle realitat und cyberspace wird heute eine von computern erzeugte und kontrollierte umgebung fur die mensch m',\n",
       " 'open internet security von den grundlagen zu den anwendungen praxisnah und verstandlich informiert der uberblick uber die aktuellen sicherheitsaspekte der internet kommunikation die autoren behandeln ',\n",
       " 'visualisierung von entscheidungsrelevanten daten fur da management dieser beitrag behandelt die prasentation und diskussion unterschiedlicher strategien zur visualisierung entscheidungsrelevanter date',\n",
       " 'rapid prototyping von eingebetteten elektronischen systemen elektronische systeme finden sich heute al sogenannte eingebettete systeme in nahezu allen hochwertigen technischen produkten der mess steue',\n",
       " 'javagrande hochleistungsrechnen mit java kaffeehausjargon etablierte sich in letzter zeit da schlagwort der grande anwendungen eine grande anwendung ist im wissenschaftlichen ingenieurmauigen oder kom',\n",
       " 'eine interaktive robotersteuerung fur chirurgische applikationen in diesem beitrag wird die steuerungsarchitektur eines robotersystems fur chirurgische applikationen ein regelungsalgorithmus und eine ',\n",
       " 'docking manover einer nichtholonomen mobilen in diesem beitrag wird ein bildbasierter regler unter verwendung der bild jacobi matrix hergeleitet und zur regelung einer mobilen plattform verwendet wege',\n",
       " 'information und kommunikationstechnologie sind wir fit fur die zukunft in den letzten jahren ist die nachfrage an itdashfachkraften stark gestiegen gegenwartige bedarfsschatzungen liegen zwischen 3000',\n",
       " 'neue lehr lernformen durch teleteaching teleteaching verstehen wir al eine rechner und netzgestutzte lehrform die multimedial auf der basis von hochgeschwindigkeitsnetzen routinemaig zwischen verschie',\n",
       " 'aktives lernen von algorithmen mit interaktiven visualisierungen in diesem artikel wird eine methode fur die gestaltung von lernprogrammen zum themengebiet algorithmen beschrieben der lerner soll die ',\n",
       " 'mobman ein mobiler manipulator fur alltagsumgebungen der einsatz von mobilen servicerobotern beschrankt sich bisher auf transport und reinigungsaufgaben bei welcher mobilitat und navigation in einer 2',\n",
       " 'angewandte informationssicherheit ein hacker praktikum an universitaten zusammenfassung immer mehr geschaftsprozesse werden in der industrie uber it systeme abgewickelt neben der generellen verfugbark',\n",
       " 'integration von open source betriebssystemen in industriellen embedded networking device in der automationstechnik zeichnen sich zur zeit zwei trend sehr deutlich ab zum einen nimmt die anzahl der emb',\n",
       " 'analyse von hdrc bildern de werkstoffubergangs de msg schweissprozesses in diesem beitrag wird die visuelle analyse von bildern de werkstoffubergangs de msg schweisprozesses vorgestellt ziel der analy',\n",
       " 'bewegungssteuerung autonomer fahrzeuge mit neuronalen feldern fahrerassistenzsysteme werden eingesetzt um dem fahrer eines kraftfahrzeugs handlungsablaufe abzunehmen diese handlungsablaufe werden defi',\n",
       " 'ein datenakquisitionssystem fur einen hochauflosenden positronen emission tomographen die positronen emission tomographie ist die sensitivste nuklearmedizinische methode zur indashvivo bestimmung phys',\n",
       " 'web technologie basiertes referenzbildarchiv ein benutzerorientierter ansatz auf der basis einer bestehenden elektronischen bildsammlung mit radiologischen referenzbildern wurde ein referenzbildarchiv',\n",
       " 'ingel dynamische informationsgewinnung fur lerneinheiten e wird ein agentenbasiertes system zur dynamischen informationsgewinnung fur lerneinheiten vorgestellt e dient der automatischen aktualisierung',\n",
       " 'modellbasierte analyse der blutfluss dynamik in der aorta mittels doppler echokardiographie die blutfluss dynamik in der aorta ist sowohl zur beurteilung der leistung naturlicher wie kunstlicher aorte',\n",
       " 'ein modulares multisensorsystem fur rohrinspektions und rohrsanierungsroboter vorgestellt wird ein modulares multi sensorielles schadensdiagnosesystem da erganzend zur klassischen tvdashtechnik sowohl',\n",
       " 'radikale kundenzentrierung im informationszeitalter wie moderne informationstechniken die gesetze der anbieter kunden beziehung verandern und wie manager darauf reagieren mussen neue informationstechn',\n",
       " 'automatisierung der erkennung von schadstellen auf infizierten tabakpflanzen in einigen pflanzenphysiologischen fragestellungen ist e notwendig auf den blattoberflachen von grunpflanzen geschadigte un',\n",
       " 'registrierung und fusion von funktionellen und anatomischen mrt daten quantitative genauigkeitsanalyse und anwendung in der navigierten neurochirurgie eine prozedur fur die akquisition registrierung u',\n",
       " 'keine angst vor problemen aspekte zu didaktik produktion und einsatz multimedialer lernsysteme zusammenfassung immer haufiger werden insbesondere multimediale techniken eingesetzt um werkzeuge de lern',\n",
       " 'soft decision decodierung langer blockcodes mit informationsmengen in der vorliegenden arbeit wird ein effizienter soft decision algorithmus vorgeschlagen der fur die decodierung langer linearen block',\n",
       " 'evolutionarer test von realzeitsystemen zusammenfassung die entwicklung von realzeitsystemen ist eine wesentliche aufgabe im industriellen umfeld der dynamische test ist die wichtigste analytische qua',\n",
       " 'umsetzung von grundkonzepten der informatik zur fachlichen orientierung im informatikunterricht zusammenfassungdurch den einuss verteilter systeme und der objektorientierung im systementwicklungsproze',\n",
       " 'entwurfsbegleitende leistungsanalyse fur sdl basiertes design multimedialer internet transportsysteme neben der funktionalen korrektheit von komplexen kommunikationssystemen spielt eine ausreichende p',\n",
       " 'workshop internet datenbanken die rasante entwicklung de web hat gerade im datenbankbereich einerseits eine vielzahl neuer anwendungsfelder eroffnet andererseits aber auch neue herausforderungen gesch',\n",
       " 'einsatz von simulation und virtual reality al lehrunterstutzung in der fabrikplanung zusammenfassung nicht nur die lehrinhalte an den universitaten unterliegen einem starken wandel sondern auch die le',\n",
       " 'sinas ein navigationssystem fur serviceroboter freie navigation in innenraumen ist eine der schlusseltechnologien fur viele servicerobotikanwendungen siemens hat in den letzten jahren da navigationssy',\n",
       " 'www bdd portal org ein forschungsportal im www diese arbeit stellt eine www portal vor das der unterstutzung der forschung im bereich spezieller datenstrukturen den binary decision diagram bdds dient ',\n",
       " 'wissensmanagement teil systeme und werkzeuge informationsverarbeitung die verteilte informationsverarbeitung ist heute an corba common object request broker architecture orientiert die kommunikation l',\n",
       " 'sicherheit durch open source chancen und grenzen computerprogramme sind folgen von anweisungen in einer programmiersprache ein rechner versteht unmittelbar nur die hardwarenahe maschinensprache also e',\n",
       " 'automatische ubertragung von praoperativen fmri markern in intraoperative mrdashdatensatze mittels funktioneller magnetresonanztomographie konnen neuro funktionelle bereiche im gehirn bestimmt werden ',\n",
       " 'gerateubergreifendes webbasierendes servicekonzept fur den anlagenbau in den letzten jahren sind viele konzepte vorgestellt worden wie sich die au der internettechnik bekannten protokolle tcp ip http ',\n",
       " 'bewertung der ergebnisse von segmentierungslosungen in radiologischen bilddaten zusammenfassung 1m bereich der medizinischen bildverarbeitung werden jedes jahr zahlreiche neue segmentierungsverfahren ',\n",
       " 'invivo brachy ein suystem zur navigation bei der plazierung von hohlnadeln in der brachytherapie die brachytherapie ist eine kurzzeit strahlentherapie bei der tumorgewebe mit einer hohen strahlendosis',\n",
       " 'berechnung der optimalen bewegung fur da autonome einparken nicht holonomer fahrzeuge in diesem beitrag wird ein verfahren zur losung de problem de autonomen einparkens betrachtet al spezialfall de al',\n",
       " 'flexible object recognition based on invariant theory and agent technology die fahigkeit zur wahrnehmung der umwelt stellt eine essentielle voraussetzung fur moderne robotikanwendungen dar diesis gilt',\n",
       " 'untersuchung eines neuen ansatzes zur projektmanagement ausbildung neben anderen faktoren entscheidet besonders die qualitat de projektmanagements uber den erfolg oder misserfolg eines projekts entspr',\n",
       " 'glykowissenschaften ein neuer einsatzbereich der bioinformatik die bioinformatik beschaftigt sich hauptsachlich mit der analyse und klassifizierung von dna rna und proteinstrukturen kohlenhydrate und ',\n",
       " 'bewegungsfuhrung in groraumigen sich rasch andernden umgebungen dieser artikel beschreibt da navigationssystem eines autonomen roboterfahrzeugs dessen primare aufgabe der transport von personen durch ',\n",
       " 'entwicklung und implementierung adaptiver datenstrukturen und algorithmen zur effizienten visualisierung und speicherung digitaler hohenmodelle inhaltsverzeichnis einleitung grundlagen\\n',\n",
       " 'signiertes xml und da prasentationsproblem eines der gravierendsten probleme die sich einer breiten offentlichen anwendung digitaler signaturen in den weg stellt ist da problem der zurechenbaren und b',\n",
       " 'test set und termersetzungen fur die generierung rekursiv definierter algorithmen au existenzaussagen in dieser arbeit wurde ein verfahren vorgestellt mit dem man rekursiv definierte algorithmen au gu',\n",
       " 'c freiburg architektur und aktionsauswahl im roboterfussfall roboterfusball ist ein wissenschaftliches anspruchsvolles forschungsproblem da erfordert probleme au den bereichen robotik kunstliche intel',\n",
       " 'hyperskript eine multimediale intranet lernumgebung da lernen hat sich mit der rasanten entwicklung der digitalen medien in ein lernen in vernetzten verbunden und mit neuen medien gewandelt dabei ford',\n",
       " 'online datenmanagement mit linux auf dem forschungsschiff sonne die reedereigemeinschaft forschungsschiffahrt bremen rf betreibt da forschungsschiff f sonne neben den daten der nautischen systeme zur ',\n",
       " 'modeling pedagogical interaction with machine learning zusammenfassungdieser artikel beschreibt einen ansatz zur codierung und analyse padagogischer interaktionen zwischen lernenden und experten im be',\n",
       " 'qualitatsmanagement im wissenschaftlichen rechenzentrum die beiden worter wissenschaftliches rechenzentrum bezeichnen auf etwas altmodische weise eine organisationseinheit in universitaten und anderen',\n",
       " 'xml basierte internetanbindung technischer prozesse in zunehmendem mase erlangt xml die bedeutung einer schlusseltechnologie beim austausch strukturierter daten im internet gleichzeitig zeichnet sich ',\n",
       " 'burokratie in der wissenschaftsverwaltung eine polemik zusammenfassung da folgende papier diskutiert die wuchernde burokratie am beispiel von grogerate beschaffungen\\n',\n",
       " 'die kombinierte verwendung von uml und pas die welt funktioniert hochgradig parallel bedeutet programmieren das ein ausschnitt dieser welt modelliert wird mu e die moglichkeit geben parallelitat auszu',\n",
       " 'workshop lehrerbildung informatik die diskussion um die greencard fur auslandische fachkrafte im itdashbereich zeigt den grosen nachholbedarf der informatischen bildung auf allen ebenen der ausbildung',\n",
       " 'signalprozessoren al koprozessoren fur linux digitale signalprozessoren dsp sind ein preiswerter weg die verarbeitungsleistung aktueller pcdashsysteme zu erhohen die unterstutzung von dsps fur da betr',\n",
       " 'siriusc vollautomatischer fassadenreinigungsroboter eine neue entwicklung de fraunhofer institute iff ist der roboter sirius zur automatischen reinigung von hochhausern der roboter ist an unterschiedl',\n",
       " 'corba basierte verteilte berechnung medizinischer bilddaten mit spm der fortschritt in der bildgebung und bildverarbeitung in der medizin stellt immer hohere anforderungen an bestehende rechensysteme ',\n",
       " 'symmetriedetektion eine robuste signalbasierte methode al symmetrie bezeichnet man selbstkongruenz oder selbstahnlichkeit eines objektes unter einer klasse von transformationen haufig werden dabei die',\n",
       " 'methoden zum qualitativen vergleich von signifikanzmaen zur kollokationsidentifikation zusammenfassung zur extraktion von kollokationen und idiomatischen wendungen au textkorpora werden in der literat',\n",
       " '3ddashfusion von physiologischen bild und anatomischen volumendatensatzen andwendung in der fmri bildanalyse zusammenfassung ein nicht zu vernachlassigendes problem bei der au wertung von daten der fu',\n",
       " 'die virtuelle maschine konfiguration simulation visualisierung aufgrund sich verkurzender produktentwicklungszeiten bedarf e neuer tool und simulationskonzepte die e ermoglichen schon wahrend der kons',\n",
       " 'unsere informationstechnik ihre imperfektion und ihre instabilitat our information technology it imperfection and it instability wahrend die grundlagen der informationstechnik auf der basis der leistu',\n",
       " 'discourse particle a speech act marker eine reihe von diskurspartikeln werden mit dem ziel analysiert die rolle die sie bei der markierung von sprechakten spielen konnen zu erklaren die analyse verwen',\n",
       " 'kundensegmentierung aufgrund von kassenbons eine kombinierte analyse mit neuronalen netzen und clustering anhand der verkaufsdaten eines sbdashwarenhauses wird eine segmentierung der kunden mittels ei',\n",
       " 'bestimmung von retinalem blutflu und arterieller blutgeschwindigkeit durch videosequenzanalyse von fluoreszenzangiographien e wird ein verfahren vorgestellt mit dem die arterielle blutgeschwindigkeit ',\n",
       " 'individuell arbeitsteilig und kooperativ ein integrierter ansatz zur erstellung pflege und nutzung multimedialer lehrmaterialien aufbauend auf eine technische infrastruktur zur unterstutzung der prase',\n",
       " 'elektronische vertrage und ihre verbindliche aushandlung zusammenfassung dieser artikel erarbeitet eine formale bestimmung der begriffe elektronischer vertrag seine ziele verpflichtungen und seine ver',\n",
       " 'oivio organisationales lernen in virtuellen organisationen ein beteiligungsorientierter ansatz virtuelle organisationen spielen eine zunehmend wichtigere rolle bei der dienstleistungserstellung die ef',\n",
       " 'vorlesung auf abruf im internet lecture on demand al baustein einer virtuellen universitat der au und weiterbildungsbereich befindet sich in einem tiefgreifenden wandel der wesentlich durch den zunehm',\n",
       " 'sicherheit in mediendaten in immer mehr bereichen de offentlichen und privaten lebens werden die neuen moglichkeiten die sich durch die weltweite vernetzung eroffnen genutzt immer mehr menschen nehmen',\n",
       " 'da heron projekt middleware fur image retrieval da heron projekt untersucht die auswirkungen multimedialer datenbanktechnologie auf weite anwendungsbereiche in den geisteswissenschaften am beispiel de',\n",
       " 'localite brain navigator ein bildgestutztes neuronavigationssystem fur die interventionelle kernspintomographie der localite brain navigator ist ein bildgestutztes navigationssystem da minimalinvasive',\n",
       " 'integration von oberflachenrekonstruktion und verschiebungskorrektur in der tomographischen 4ddashechokardiographie die untersuchung der endokardbewegung ist fur die diagnostik vieler herzkrankheiten ',\n",
       " 'erstellung interaktiver lehr lerninhalte unter verwendung von spezifischen autorenwerkzeugen in vernetzten multimedialen lehr lernumgebungen durch den einsatz multimedialer lernumgebungen konnen tradi',\n",
       " 'standardisierung der kommunikation al integrationsansatz fur da bauwesen die integration von anwendungen fur da bauwesen ist zur zeit eine der wichtigsten aufgaben der bauinformatik die integration so',\n",
       " 'evaluation der castle umgebung fur kooperatives lernen unbestritten und in zahlreichen publikationen in den letzten jahren aufgegriffen bietet distance learning zahlreiche vorteile fur unsere gesellsc',\n",
       " 'moglichkeiten der metrik basierten modellierung und auswertung von qualitatsvorgaben mit dem werkzeug logiscope metrik und mestools werden haufig zur bewertung von source code qualitat eingesetzt dies',\n",
       " 'noch nicht zu spat auf diese entwicklung wurde vom amerikanischen prasidenten 1996 97 eine au 26 experten der informationstechnologie bestehende kommission eingesetzt mit der aufgabe eine umfassende a',\n",
       " 'ein transformativer ansatz fur die synthese und verifikation algorithmischer hardwarebeschreibungen in dieser arbeit wird ein verfahren der formal korrekten synthese vorgestellt mit hilfe dessen ein a',\n",
       " 'routing mit qos eigenschaften unter linux durch die zunehmende anzahl interaktiver multimedia anwendungen steigen die anforderungen an die netzwerk funktionalitat die notwendigkeit dienst gute fur die',\n",
       " 'disparitasanalyse konvergenter und rektifizierter stereoansichten eine vergleichende untersuchung in diesem beitrag werden ergebnisse einer vergleichenden untersuchung zur disparitatsanalyse von konve',\n",
       " 'integriertes management groer web site auf der basis datenbankbasierter modellierungskonzepte der internet mehrwertdienst world wide web hat in den letzten jahren zunehmend an bedeutung gewonnen die e',\n",
       " 'munics eine multimediale lernumgebung zum kooperativen lernen im studiengang informatik im rahmen der hochschulausbildung wird haufig trages wissen erworben wissen da die studierenden zwar theoretisch',\n",
       " 'gestikbasierte mensch maschine kommunikation auf der grundlage visueller aufmerksamkeit und adaptivitat im mittelpunkt dieser arbeit steht die erforschung von intelligenten gestikbasierten mensch masc',\n",
       " 'ifss ein integriertes firewall server system zusammenfassung fur den schutz der in einem intranet betriebenen server vor angriffen au dem internet und fur die aufrechterhaltung der verfugbarkeit der e',\n",
       " 'order monitoring mit mobilen internetgeraten die neue wap technologie verbindet da internet mit dem mobilfunknetz damit entstehen vollig neue moglichkeiten in logistik und ecommerce kunden lieferanten',\n",
       " 'entwicklung von algorithmen und programmen fur ein archivierungs und kommunikationssystem zur internetbasierten verwaltung medizinischer bilder seit ende der achtziger jahre ist eine moderne und quali',\n",
       " 'statistische auswahl von wortabhangigkeiten in der automatischen spracherkennung knowledge is gained by learning trust by doubt skill by practice and love by love inhaltsverzeichnis einfuhrung sprachm',\n",
       " 'synthesis of digital circuit from object oriented specification die dissertation beschreibt die erzeugung statischer digitaler schaltungsstrukturen fur anwendungsspezifische integrierte schaltungen au',\n",
       " 'beseitigung von flecken in digitalen filmsequenzen viele filme sind durch verfall chemische veranderungen und abnutzung beschadigt der erhalt dieser filme ist eine wichtige aufgabe au kultureller und ',\n",
       " 'effiziente scheduling algorithmen fur datenparallele anwendungen der funktionellen medizinischen bildgebung auf now ziel dieser arbeit ist die evaluierung effizienter scheduling algorithmen fur den pr',\n",
       " 'moglichkeiten und grenzen der virtualisierung de informatikstudiums wie eine ganze reihe von bereits abgeschlossenen oder noch laufenden verbundprojekten zeigt ist e recht naheliegend einen teil de st',\n",
       " 'telemediale fallstudien in der universitaren au und weiterbildung in der universitaren au und weiterbildung werden haufig lehrmethoden eingesetzt die zu einem transfer de gelernten nur bedingt beitrag',\n",
       " 'information retrieval in objekt relationalen datenbanksystemen nachfolgend finden sie einige hinweise und fragestellungen zu den ausgegebenen themen die mit gekennzeichneten materialien sind leihweise',\n",
       " 'charakteristika von schutzzielen und konsequenzen fur benutzungsschnittstellen gender erkenntnisse uber schutzziele insbesondere ihren eigenschaften und wechselwirkungen wird eine benutzungsschnittste',\n",
       " 'system zur diagnoseunterstutzung von patienten mit gesichtslahmungen in diesem beitrag wird ein system zur automatischen diagnoseunterstutzung von patienten mit einseitigen gesichtslahmungen vorgestel',\n",
       " 'ein zugang zu qos fahigen backbone netzen uber beliebige layer technologien zusammenfassung durch die immer weitere verbreitung de internet wird der computer fur eine standig steigende zahl von mensch',\n",
       " 'constraintbasierte codegenerierung fur eingebettete prozessoren eingebettete systeme gewinnen zunehmenden einfluss in vielen bereichen unseres all taglichen lebens wie zb in der telekommunikation fahr',\n",
       " 'neue wege in der exploration exploration ist eine der fundamentalen methoden in der informatik allgemein und der kunstlichen intelligenz im speziellen wesentliche erfolge reichen von der bezwingung vo',\n",
       " 'aufbereitung von laserdaten fur ein mobile autonomes 3d mesystem e wird ein system vorgestellt da outdoor objekte wie gebaude autonom vermessen und daraus 3d modelle erstellen soll besondere berucksic',\n",
       " 'unterstutzung der modellierung verfahrenstechnischer prozesse durch nicht standardinferenzen in beschreibungslogiken im rahmen einer kooperation zwischen dem lehrstuhl fur prozesstechnik und dem lehru',\n",
       " 'workshop technologien zur virtuellen ausbildung fur wirtschaftlich schwache lander technologien zur virtuellen ausbildung sind aktuelle bestrebungen wie zb email chat www usw der bildungsbedarf steigt',\n",
       " 'interaktive diagnose von verrauschten inspektionsdaten durch subsymbolische lernverfahren link view alv system diesis system trennt die applikation in einen anwendungsteil abstraction und mehrere ober',\n",
       " 'multidimensionale visualisierung dynamischer mrdashmammographiebildsequenzen in der magnetresonanztomographie mrt fuhrt die applikation paramagnetischer kontrastmittel km zu einer verstarkten protonen',\n",
       " 'swing eine suchmaschine mit datenbankanschlu swing ist der anfrageund suchdienst de landesinformationssystems mvdashinfo da die internet informationsangebote mecklenburg vorpommerns integriert und kla',\n",
       " 'integration von implizitem und explizitem kompetenzerwerb durch netzbasiertes lernen zunachst werden wissenschaftliche begrundungen uber die bedeutung impliziter lernprozesse rekapituliert und deren g',\n",
       " 'echtzeit kartenaufbau mit einem 180 laser entfernungssensor im projekt bremer autonomer rollstuhl werden verfahren entwickelt die altere und behinderte personen bei der benutzung von rollstuhlen unter',\n",
       " 'style guide am beispiel der java look and feel design guideline von sun microsystems eine kritische betrachtung die java look and feel design guideline von sun microsystems liefern vorgaben fur die en',\n",
       " 'morphologische wortmodellierung fur die automatische sprachverarbeitung reprasentation verarbeitung architektur diese dissertation ist primar dem gebiet der computermorphologie zugeordnet sie soll ein',\n",
       " 'anwendungsorientierung in der informatik ausbildung die informatik ist per se anwendungsorientiert sie entstand ja au dem bedurfnis mathematiker und ingenieure bei langwierigen langweiligen rechenarbe',\n",
       " 'automatisches auffinden von potentiell irreversiblen infarktregionen im menschlichen gehirn anhand von kombinierten perfusion ctdashbildern perfusionsdashct wird erfolgreich eingesetzt al eine funktio',\n",
       " 'digitale wasserzeichen gehend ungelost sind die gewahrleistung von authentizitat der daten um die identitat de besitzers oder sender zu garantieren beispielsweise fur die durchsetzung von urheberrecht',\n",
       " 'entwurf eines integrierten system zur visualisierung von ergebnissen numerischer berechnungsverfahren fur massiv parallele rechnerarchitekturen in dieser arbeit wird ein visualisierungsprogrammsystem ',\n",
       " 'quantitaten qualitaten und kostenzuordnung von leistungen in universitatsrechenzentren leistungs und kostenrechnung in nordrhein westfalen in den hochschulen nordrhein westfalens wird die kosten und l',\n",
       " 'computergestutzte klinische strategie fur da tissue engineering einer ohrmuschel in der plastisch rekonstruktiven chirurgie besteht ein hoher bedarf an gewebeersatz bei einem minimalen hebedefekt dabe',\n",
       " 'entwicklungs und laufzeitunterstutzung fur synchrone groupware ion link view hill92 kurz alv ausgesprochen elwie wurde al grundlage de groupware system rendezvous benutzt hbp 93 die motivation fur alv',\n",
       " 'modellbasierte segmentierung mittels snake und mutual information jeder segmentierungsansatz setzt spezifisches vorwissen uber da zu bearbeitende bildmaterial voraus in der regel erfullt da bildmateri',\n",
       " 'intelligente agenten und ki neuere kidashtextb ucher st utzen sich zur begriffsdefinition von kunstliche intelligenz in der regel massiv auf den agentenbegriff autonomie orperhaftigkeit embodiment rea',\n",
       " 'da social web cockpit ein assistent fur virtuelle gemeinschaften da social web cockpit ist ein assistent der verschiedene dienste zur unterstutzung kooperativen wissensmanagements integriert und benut',\n",
       " 'qualitatsziele und testaufgaben im internet zusammenfassung in diesem artikel werden die fur internet anwendungen relevanten qualitatsziele und die sich daraus ergebenen qualitatssicherungs q und test',\n",
       " 'tool und messungen zur bewertung von smp und numa architekturen zusammenfassung im vorliegenden beitrag werden zwei teilprojekte de von der heinz nixdorf stiftung geforderten forschungsvorhabens bonus',\n",
       " 'manchmal ist der wichtigste baustein kein baustein italian lego user group am 26 marz ihre vierte vollversammlung abhielt\\n',\n",
       " 'neue medien in der ausbildung ein mittel zur reduzierung de mangels an itdashexperten die ankundigung von bundeskanzler schroder auf der cebit 2000 ein gewisses kontingent an greencards fur auslandisc',\n",
       " 'designspezifikationen im digitalen publikationsprozess die dokumentverarbeitung ist derzeit eines der wichtigsten einsatzgebiete von digitalen rechensystemen 98 aller geschaftlich eingesetzten rechens',\n",
       " 'einfuhrung zu data mining data mining bedeutet buchstablich schurfen oder graben in daten wobei da implizite ziel wonach gegrabenwird informationen beziehungsweise wissen sind wissen entspricht heute ',\n",
       " 'aufbau und kinematische bewegungsplanung von mobilen manipulatoren dieser beitrag befast sich mit kinematischer modellierung bevorzugtem aufbau und kinematischer bewegungsplanung eines mobilen manipul',\n",
       " 'morpha intelligente anthropomorphe assistenzsystemedie interaktion zwischen mensch und mobilen assistenzsystemen al grundlegende variante der mensch technik interaktion moderne technische assistenzsys',\n",
       " 'erfolg macht spa softwaretechnik an der universitat stuttgart die fakultat informatik der universitat stuttgart bietet seit 1996 neben dem diplomstudiengang informatik den neuen studiengang softwarete',\n",
       " 'konzeption und erste erfahrungen einer metrikenbasierten software wiederverwendung fur die software wiederverwendung existieren bereits eine reihe von untersuchungen bzw erfolgsstories au der praxis z',\n",
       " 'testmethoden fur die sichere sinnentsprechende silbentrennung und andere anwendungen einer wortanalyse e wird eine testumgebung fur die sichere sinnentsprechende silbentrennung sisisi deutscher worter',\n",
       " 'erfahrungen mit synchronen und asynchronen lernszenarien an der universitat mannheim zusammenfassung an der universitat mannheim werden seit 1996 teleteaching projekte durchgefuhrt der schwerpunkt lie',\n",
       " 'informatiker gesucht internationale anzeigenportal im internet sucht ab sofort eine junge und motivierte informatiker in gerne student in oder schuler in bei bedarf bieten wir eine wohnmoglichkeit an ',\n",
       " 'optimierte werbetragerplanung mit neuronalen netzen im database marketing bei versandhausern bestimmt die auflage von werbetragern im positiven sinne den umsatz und im negativen die werbekosten einer ',\n",
       " 'inkrementelle verfeinerung von kooperationsstrukturen in der druckindustrie wegen de bedurfnisses kleinerer und mittlerer betriebe au der dvdashtechnisch anspruchsvollen druckund medienbranche ihre ko',\n",
       " 'formale und stochastische methoden zur qualitatssicherung technischer software eingeladener vortrag technische softwareintensive systeme besitzen oft sicherheitsanforderungen und quantifizierte verfug',\n",
       " 'qualitative reprasentation von bewegungsverlaufen die reprasentation von bewegungsverlaufen ist eine wichtige teilaufgabe in vielen informatischen anwendungen uberall wo sich zb roboter autonom durch ',\n",
       " 'sicherheitsanforderungen und sicherheitsmechanismen bei itdashsystemen schlusselworter sicherheitsanforderung sicherheitsmechanismus vertraulichkeit integritat authentizitat nichtabstreitbarkeit krypt',\n",
       " 'erzeugung eines gemeinsamen kooridinatensystems fur eine gruppe von robotern auf der basis von bildverarbeitung fur viele anwendungen von mehrrobotersystemen ist die existenz eines gemeinsamen koordin',\n",
       " 'abstraction reformulation and approximation ion reformulation and approximation 5th international symposium sara 2002 kananaskis alberta canada august 2dash4 2002 proceeding bearbeitet von sven koenig',\n",
       " 'visualisierungs und interaktiostechniken zur entscheidungsunterstutzung in der praoperativen planung wir prasentieren den surgeryplanner mit dem auf der basis patientenindividueller daten die operabil',\n",
       " 'differentiated service konzepte und erste erfahrungen zusammenfassung der differentiated service mechanismus ist ein skalierbares konzept da fur da ipdashprotokoll dienstklassen mit unterschiedlichen ',\n",
       " 'automatische verfolgung von augenlidbewegungen und korrelation mit emg daten e wird eine methode vorgestellt mit der e moglich ist ohne spezielle marker oder markierungen die bewegungen von augenlider',\n",
       " 'globale selbstlokalisation mittels referenzscan matching globale selbstlokalisation die fahigkeit eines mobilen roboters zur positionsbestimmung ohne initiale hypothese ist fur eine zuverlassige navig',\n",
       " 'graphbasierte lernverfahren fur relationale daten zusammenfassung anhand zweier anwendungsbeispiele au der induktiven logischen programmierung ilp wird die fragestellung de erlernens von klassifikator',\n",
       " 'ein strukturiertes konzept zum inahltsbasierten zugriff auf medizinische bildarchive der inhaltsbasierte zugriff auf grose medizinische bildarchive ist bislang methodisch noch nicht ausreichend konzep',\n",
       " 'set top boxen fur den digitalen fernsehempfang die set top box stb ist da neue endgerat fur den digitalen fernsehempfang nach dvb in der stb laufen prozesse wie die decodierung de video signal mpegdas',\n",
       " 'hierarchische synthese fur anwendungsspezifische prototypenimplementierungen um einen schnellen prototypenentwurf von integrierten steuerungssystemen zu unterstutzen ist ein durchgehender auf systemeb',\n",
       " 'zentrale verwaltung und uberwachung von netzobjekten zusammenfassung die heutige zeit ist gekennzeichnet durch ein immenses wachstum der computernutzung im geschaftlichen al auch im privaten bereich d',\n",
       " 'interaktive echtzeit mehrkanal visualisierung de herzens um herzklappeninsuffizienzen effizient beurteilen zu konnen haben sich transosophageale getriggerte dreidimensionale ultraschallaufnahmen al mi',\n",
       " 'exploration based on neural network with application in manipulator control ausgehend von der vision von naturlicher und intuitiver mensch maschine kommunikation und kooperation stellt die arbeit eine',\n",
       " 'dukath da drahtlose netz der universitat karlsruhe zusammenfassung bisher war an der universitat karlsruhe die nutzung de internet im wesentlichen auf den arbeitsplatz im buro und die rechner pool rau',\n",
       " 'eine datenbankbasierte architektur fur komponentensoftware in eingebetteten realzeitsystemen active real time database based architecture for component software in embedded real time system komponente',\n",
       " 'ein interaktionsbasiertes modell fur den objektorientierten integration und regressionstest zusammenfassung bei der iterativen inkrementellen software entwicklung werden klassen sukzessive spezifizier',\n",
       " 'it is time to fly kite kite steht fur kundenorientiert informationstechnologie erklaren und bezeichnet ein internet basiertes informationssystem da in einem ersten anwendungsfall in der edv grundausbi',\n",
       " 'internet standard da internet ist ein loser zusammenschluss von inzwischen vielen millionen rechnern einziges merkmal der zusammengehorigkeit dieser computer ist die verwendung einheitlicher verfahren',\n",
       " 'spontane vernetzung infrastrukturkonzepte fur die postdashpc ara ein beliebiges netzwerkfahiges gerat wie beispielsweise ein drucker wird an seinem neuen einsatzort aufgestellt eingeschaltet und mit d',\n",
       " 'interaktionsdiagramme mit datenspezifikation zur darstellung verteilter systeme wir definieren ndashagenten diagramme zur graphischen spezifikation verteilter systeme diese diagramme basieren auf den ',\n",
       " 'ein system zur funktionellen perfusionsuntersuchung der niere bei gleichzeitiger unterdruckung der atembewegung de organ fur viele weitverbreitete erkrankungen wie zb den krankhaft erhohten blutdruck ',\n",
       " 'ein lern und klassifikationssystem zur erkennung komplexer und oder deformierter 2ddashobjektkonturen mit merkmalsfusion ein im prinzip noch ungelostes problem in der mustererkennung ist die automatis',\n",
       " 'einsatz von case based reasoning zur kundenunterstutzung im internet da internet hat sich zu einem marktplatz entwickelt auf dem nicht nur informationen ausgetauscht sondern auch produkte und dienstle',\n",
       " 'teleteaching mit mpegdash2 zusammenfassung da am rechenzentrum der friedrich schiller universitat jena 1997 entwickelte neue konzept fur teleteaching wurde vor dem festen einbau in die vorgesehenen ho',\n",
       " 'erkennung dynamischer gesten zur kommandierung mobile robotersystetne werden heute meist uber graphische oberflachen in standard pc pda oder teachpanel kommandiert auditive und gestenbasierte kommandi',\n",
       " 'dezentrale intelligenz durch metamodell basierte objektverwaltung dezentrale systeme der automatisierungstechnik bieten in zunehmendem mase intelligente funktionen leiden aber unter infrastruktureller',\n",
       " 'multimedia home platform mhp fur da digitale fernsehen dvb mit der multimedia home platform wird da digitale fernsehen mit einer einheitlichen bedienplattform bedient dh der zuschauer braucht nur eine',\n",
       " 'eliminierung von temporaren hindernissen im 2d und 3ddashraum bei der rekonstruktion einer umgebung fur einen teilautonomen mobilen roboter hiermit wird ein ansatz zur eliminierung von temporaren hind',\n",
       " 'meldoq ein system zur unterstutzung der fruherkennung de malignen melanoms durch digitale bildverarbeitung die dermatoskopie stellt die derzeit leistungsfahigste klinische methode zur fruherkennung de',\n",
       " 'quantitative messung der hirnperfusion in intrakraniellen ultraschall bildsequenzen die darstellung und quantitative auswertung der hirnperfusion liefert wichtige diagnostische hinweise mit der comput',\n",
       " 'diskrete hidden markov modelle zur analyse von mekurven amperometrischer biosensoren in diesem beitrag wird ein auf diskreten hmm basierendes verfahren zur analyse von biosensor meskurven vorgestellt ',\n",
       " 'segmentierung und volumetrie von tumorentitaten mit ctdashdatensatzen die tumorvolumetrie ist fur die onkologie von groser bedeutung sie dient insbesondere der exakten bestimmung de ausgangswertes bei']"
      ]
     },
     "execution_count": 16,
     "metadata": {},
     "output_type": "execute_result"
    }
   ],
   "source": [
    "langs['de']"
   ]
  },
  {
   "cell_type": "code",
   "execution_count": 17,
   "metadata": {},
   "outputs": [
    {
     "data": {
      "text/plain": [
       "['identificacion de patrones de reutilizacion de requisitos de sistemas de informacion resumen en este articulo se exponen algunos de los resultados de la aplicacion de la plantillas patrones de requisi',\n",
       " 'una introduccion la bibliotecas digitales geograficas resumen la bibliotecas digitales geograficas bdg contienen documentos con una caracteristica especial estan georreferenciados e decir un documento',\n",
       " 'base de datos con acceso en linea consulta visual de fondos documentales de arquitectura el proyecto de digitalizacion del archivo grafico de la escuela de arquitectura de barcelona resumen la activid',\n",
       " 'principios basicos de usabilidad para ingenieros software la usabilidad e un tema que esta cobrando una importancia cada vez mayor en el desarrollo de software pesar de ello la ingenieria del software',\n",
       " 'relaciones entre casos de uso en el unified modeling language el unified modeling language uml e un lenguaje grafico semiformal que ha sido aceptado como estandar para describir sistemas de software o',\n",
       " 'el proyecto biblioteca multimedia virtual resumen en septiembre de 1999 se iniciaba el primer cuatrimestre del graduado multimedia distancia titulacion impartida conjuntamente por la fundacion politec',\n",
       " 'componentes para el analisis historico de informacion periodistica hoy en dia disponemos de grandes volumenes de informacion periodistica en linea debido en buena parte la incorporacion de la grandes ',\n",
       " 'sistemas hibridos neuro simbolicos una revision este articulo presenta una revision general de los sistemas hibridos neuro simbolicos de inteligencia artificial centrandose en aquellos compuestos por ',\n",
       " 'combinacion de procesos de clausura csp para la resolucion de problemas de scheduling premio accesit jose cuena el problema de scheduling ha sido estudiado bajo diferentes aproximaciones fundamentalme',\n",
       " 'la organizacion de recursos digitales la oferta de servicios documentales en un entorno virtual de aprendizaje resumen el crecimiento de usuarios potenciales el de la oferta de servicios por parte de ',\n",
       " 'modelos para la computacion movil invited paper en este articulo presentamos un analisis comparativo de algunos calculos de computacion movil propuestos recientemente al tiempo que se describen el cal',\n",
       " 'inspeccion del lexico extendido del lenguaje resumen el uso de glosarios en el proceso de elicitacion de requisitos se ha difundido tanto entre los desarrolladores como entre los investigadores en el ',\n",
       " 'elan una red distribuida poliglota de recursos linguisticos textuales en este articulo presentamos el proyecto mlis elan cuyo objetivo principal e la creacion de una red distribuida poliglota de base ',\n",
       " 'laurin proyecto de digitalizacion de prensa resumen el proyecto laurin surge ante la necesidad de proveer la bibliotecas centro de documentacion de los instrumentos pertinentes para la digitalizacion ',\n",
       " 'prototipado de interface de usuario partir de escenarios modelos uml en este articulo presentamos un proceso de ingenieria de requerimientos que genus de un modo automatico prototipos de interface de ',\n",
       " 'degree un sistema para la realizacion evaluacion de experiencias de aprendizaje colaborativo en ensenanza distancia premio accesit jose cuena se presenta un sistema en el que se combina trabajo de mod',\n",
       " 'sistema multiagente para el diseno de redes de neuronas de base radial optimas resumen la redes de neuronas de base radial rnbr se comportan muy bien en la aproximacion de funciones siendo su converge',\n",
       " 'aplicacion de inteligencia artificial en sistemas automatizados de produccion soy un gigante tan gigante que puedo grabar una rosa en la una de un nino recien nacido para solucionar el problema el per',\n",
       " 'patrones de diseno para el modelo de redes en sistemas de informacion geografica este articulo describe do patrones de diseno que facilitan el desarrollo de sistemas de informacion geografica sig orie',\n",
       " 'mpeg1 layer3 winisis tecnologia al servicio de la documentacion resumen la continuum aparicion de nuevas aplicaciones formatos de almacenamiento requiere ordenadores cada vez ma potentes una mayor can',\n",
       " 'interface de realidad virtual en bibliotecas digitales resumen se analizan algunos aspectos relacionados con el diseno de bibliotecas digitales que ofrecen una interfaz de usuario basada en tecnicas d',\n",
       " 'arquitectura neuronal con aprendizaje incremental creacion de mapas el modelo arm en este documento se presenta una nueva arquitectura neuronal capaz de aprender de forma incremental la vez que realiz',\n",
       " 'ediciones digitales en la bibliotecas de la upc hacia la biblioteca digital resumen partir de la implementacion de do base de datos priori independientes la una de la otra libros virtuales web de inte',\n",
       " 'generacion de texto redundante para recuperar informacion la experiencia con la firmas de infanzonia del ahp de zaragoza resumen presentamos una experiencia en la que se ha utilizado un gestor relacio',\n",
       " 'propuesta de una metodologia para la seleccion de materiales en una biblioteca digital en el ambito universitario resumen la proliferacion de recursos digitales en la world wide web la importancia de ',\n",
       " 'la infraestructura nacional de informacion geografica desde la perspectiva de bibliotecas digitales distribuidas departamento de informatica ingenieria de sistemas universidad de zaragoza maria de lun',\n",
       " 'un enfoque neuronal al seguimiento de un objeto trave de su tamano su localizacion el analisis del movimiento en secuencias de imagenes e una disciplina en constante crecimiento debido al gran numero ',\n",
       " 'agentes inteligentes en internet estudio de los agentes inteligentes e un area de investigacion de muy rapido crecimiento donde el desarrollo de proyectos hace evidente que la complejidad del software',\n",
       " 'modelado de aspectos de navegacion presentacion en aplicaciones hipermediales este articulo presenta oodashhmethod una propuesta metodologica que utilizando una aproximacion oo captura la semantica ne',\n",
       " 'de los procesos del negocio los casos de uso en este trabajo se presenta una estrategia para obtener de modo sistematico el modelo de casos de uso el modelo conceptual partir del modelado del negocio ',\n",
       " 'sistema de codificacion sub banda de imagenes con wavelet hoy en dia circulan en diversos medios grandes volumenes de informacion como resultado la habilidad para almacenar accesar transmitir esta inf',\n",
       " 'un repertorio legislativo hipertextual mediante marcado de texto la disposiciones generales del boletin oficial de la comunidad de madrid resumen esta comunicacion presenta un proyecto en curso encami',\n",
       " 'generacion automatica de casos de uso para desarrollo de software basado en reutilizacion resumen el desarrollo de software con reutilizacion se basa en la seleccion adecuada de elementos reutilizable',\n",
       " 'aplicacion de tecnicas de recuperacion de informacion un glosario de terminos de internet desarrollado utilizando tecnologia jsp resumen en este articulo se describe un sistema que facilita la consult',\n",
       " 'produccion del lel en un dominio tecnico informe de un caso el presente trabajo se centro en la actividades de la fase de elicitacion de requerimientos utilizandose para la misma una metodologia basad',\n",
       " 'tratamiento de la incertidumbre en modelado control borrosos en la pr actica actual en un entorno industrial complejo la aplicaci on de ecnicas de control inteligente basadas en redes neuronales con c',\n",
       " 'gestion consulta de proyectos final de carrera via web resumen desarrollo de una base de datos con una interfaz via web que permita la gestion consulta de proyectos final de carrera desde diversas pla',\n",
       " 'la difusion selectiva de la informacion trave de internet interes resumen la biblioteca rector gabriel ferrate ofrece un servicio de difusion selectiva de la informacion dinteres concebido como respue',\n",
       " 'un modelo para la prediccion de recidiva de pacientes operados de cancer de mama cmo basado en redes neuronales la prediccion de recidiva en pacientes que han sido operados de cancer de mama juega un ',\n",
       " 'aplicacion integrada de la biblioteca digital del patrimonio historico andaluz resumen en este trabajo se describen la necesidades del instituto andaluz de patrimonio historico para desarrollar el sis',\n",
       " 'integracion de colecciones heterogeneas en bibliotecas digitales resumen la heterogeneidad en la bibliotecas digitales dificulta la integracion de colecciones documentales destinadas constituir una nu',\n",
       " 'editorial movil propuestos recientemente de forma especifica la aplicacion del calculo pico creado por el grupo avispa\\n',\n",
       " 'una plataforma colaborativa de recuperacion de informacion el numero creciente de informacion disponible trave de la internet hace necesarias herramientas para la seleccion de los datos los cuales se ',\n",
       " 'uso de patrones en la construccion de escenarios resumen los patrones permiten han permitido en diferentes area del conocimiento humano reusar la esencia de la solucion de un problema al enfrentar nue',\n",
       " 'ingenieria del conocimiento de la extraccion al modelado de conocimiento en el presente trabajo se intentara dar una vision general del estado actual en el que se encuentra la disciplina ingenieria de',\n",
       " 'mecanos analisis de conceptos formales como soporte para la construccion de franeworks resumen la creacion posterior evolucion de framework e un proceso difcil esta dificultad e mayor en los framework',\n",
       " 'publicaciones electronicas hacia un nuevo modelo de comunicacion cientifica resumen se analizan la implicaciones que la posible sustitucion de la tradicionales publicaciones cientificas impresas por s',\n",
       " 'diseno del modelo navegacional para sistemas de tratamiento de bibliotecas digitales resumen los sistemas de tratamiento de bibliotecas digitales nacen como sistemas complejos en los que se mezclan im',\n",
       " 'aprendizaje automatico de programas logico funcionales la programacion logica inductiva ilp e un marco para la inferencia inductiva de teorias de primer orden partir de hechos el uso de la programacio',\n",
       " 'la gestion de revistas electronicas en la bibliotecas universitarias espanolas resumen la gestion de la revistas electronicas constituye una actividad cada vez ma relevante en la bibliotecas universit',\n",
       " 'descripcion cualitativa del mapeo computacional bajo el concepto de conjunto el campo de la matematicas aplicadas ha seguido una tendencia en donde se establece un vinculo entre los entes abstractos l',\n",
       " 'la biblioteca digital de catalunya oportunidades opciones estrategias en la adquisicion compartida de informacion electronica resumen la biblioteca digital de catalunya e una de la soluciones que la b',\n",
       " 'la nueva biblioteca digital de la universitat de valencia resumen la bibliotecas universitarias deben ofrecer cada vez ma servicios en linea sus usuarios la universitat de valencia partiendo de su pro',\n",
       " 'entorno de especificacion de aplicaciones para bibliotecas digitales resumen la hora de abordar la creacion de una biblioteca digital se deben resolver tres problemas principales el diseno de una bd q',\n",
       " 'modelos cualitativos de ordenes de magnitud introduccion los modelos mixtos en el articulo que se presenta se introduce un modelo mixto de ordenes de magnitud para el tratamiento de problemas en los q',\n",
       " 'inclusion de vista en odmg resumen la vista son una importante funcionalidad proporcionada por los sistemas de base de datos relacionales que no ha sido posible trasladar satisfactoriamente los sistem',\n",
       " 'impacto de la tecnologia de la informacion ti en la organizaciones primeramente se establecera un concepto de tecnologia para algunos e el estudio de los procedimientos tecnicos de sus relaciones con ',\n",
       " 'hear una herramienta de adquisicion de requistos resumen la ingenieria de requisitos cumple un papel primordial en el proceso de produccion de software ya que enfoca un area fundamental la definicion ',\n",
       " 'editorial los animales menores al igual que el ganado mayor son tambien un medio de ahorro para el campesino en muchos lugares de america latina son considerados como el banco del campesino pues en si',\n",
       " 'museo hacia un entorno experimental de sistemas de informacion resumen el objetivo de este trabajo e la especificacion del sistema de informacion experimental museo que esta orientado la documentacion']"
      ]
     },
     "execution_count": 17,
     "metadata": {},
     "output_type": "execute_result"
    }
   ],
   "source": [
    "langs['es']"
   ]
  },
  {
   "cell_type": "code",
   "execution_count": 18,
   "metadata": {},
   "outputs": [],
   "source": [
    "del(langs)"
   ]
  },
  {
   "cell_type": "markdown",
   "metadata": {},
   "source": [
    "**Thoughts: it's pretty good**\n",
    "\n",
    "We'd be doing this to remove about 1% of abstracts. Unfortunately I think it will be necessary. Let's try again with a smaller sample of text:"
   ]
  },
  {
   "cell_type": "code",
   "execution_count": 20,
   "metadata": {},
   "outputs": [
    {
     "name": "stderr",
     "output_type": "stream",
     "text": [
      "Lines in file processed...: 65450it [07:56, 137.24it/s]\n"
     ]
    }
   ],
   "source": [
    "langs = defaultdict(list)\n",
    "\n",
    "with open(\"../../Data/semantic_scholar_cleaned/2000.txt\", \"r\") as f:\n",
    "    for line in tqdm(f,  desc='Lines in file processed...'):\n",
    "        langs[detect(line[0:200])].append(line[0:200])\n",
    "\n"
   ]
  },
  {
   "cell_type": "code",
   "execution_count": 21,
   "metadata": {},
   "outputs": [
    {
     "name": "stdout",
     "output_type": "stream",
     "text": [
      "en 64695\n",
      "de 450\n",
      "id 2\n",
      "es 62\n",
      "it 20\n",
      "pt 33\n",
      "fr 161\n",
      "pl 1\n",
      "nl 3\n",
      "ro 3\n",
      "hr 1\n",
      "so 3\n",
      "sv 2\n",
      "sq 2\n",
      "lt 1\n",
      "ca 5\n",
      "no 1\n",
      "tl 1\n",
      "af 3\n",
      "da 1\n"
     ]
    }
   ],
   "source": [
    "for key in langs.keys():\n",
    "    print(key, len(langs[key]))"
   ]
  },
  {
   "cell_type": "code",
   "execution_count": 22,
   "metadata": {},
   "outputs": [
    {
     "data": {
      "text/plain": [
       "['colinearite et instabilite numerique dans le modele lineaire nous donnons dans cet article expression du coefficient de correlation multiple dans un modele lineaire en fonction de coefficient de corre',\n",
       " 'modelisation par chaines de markov homogenes ergodiques de appels de puissance un parc de chauffe eau electriques lors de evaluation de action de maitrise de la demande electricite on besoin de method',\n",
       " 'recensement et description de mot composes methodes et application ce memoire decrit le recherches en informatique linguistique menees par auteur dans le domaine de mot composes et plus specialement d',\n",
       " 'utilisation de methodes formelles pour le developpement de programme paralleles le travail decrit dans cette these pour but etudier comment on peut appliquer le methodes formelles la parallelisassions',\n",
       " 'planification de emplois du temp et de la formation au sein une grande entreprise nous decrivons une methode issue de la recherche operationnelle permettant de planifier emploi du temp de collaborateu',\n",
       " 'the drive towards national information infrastructure in egypt overview auteur presente une vue ensemble de developpements de technology de information et de la communication ainsi que du secteur de e',\n",
       " 'amelioration de performance et reduction de la puissance consommee de telephone portable par legalisation conditionnelle resumedans le systemes cellulaires amrt lautonomie de terminaux est une contrai',\n",
       " 'intentionnalite communicative dans le dialogue homme machine en langue naturelle notre travail de these porte sur la modelisation de intention de communication de systemes de dialogue homme machine en',\n",
       " 'programmation parallele orientee objet et reutilisabilite appliquee algebre lineaire parallel object oriented programming and reuse applied to numerical linear algebra objectif de cette these est exam',\n",
       " 'closure under union and composition of iterated rational transduction nous poursuivons notre etude de transduction iterees dans cet article nous etudions la cloture par union et composition de quelque',\n",
       " 'madkit une experience architecture de plate forme multi agent generique resume dans ce article nous presentons larchitecture de madkit pour multi agent development kit une plate forme generique de con',\n",
       " 'etude de evolution temporelle de phenomenes terrestres au moyen de imagerie radar le donnees radar sont tres sensibles aux modification du sol la technique interferometrique permet en etudier le relie',\n",
       " 'utilisation de patron pour aider la gestion du changement dans le entreprises dans un monde ou le entreprises sont en evolution quasi permanente la gestion de connaissances relative au changement est ',\n",
       " 'de algorithmes evolutionnaires pour la classification automatique cet article traite de methodes de classification aide algorithmes evolutionnaires algorithmes genetiques strategy evolution ce algorit',\n",
       " 'analyse discriminante sur variable qualitatives programme de quatre methodes nous presentons quatre modeles de discrimination sur variable qualitatives la discrimination predictive fondee sur le model',\n",
       " 'synthese de normes de codage de la parole et du son uitdasht etsi et iso mpeg resumeles normes de codage de la parole et du son sont definies au sein organismes internationaux ay ant de vastes attribu',\n",
       " 'systemes evaluation et de classification multicriteres pour aide la decision construction de modeles et procedure affectation evaluation and multicriteria classication system for decision aid model an',\n",
       " 'une tentative malheureuse do construire une structure eliminant rapidement le quanteurs je cherche construire une structure eliminant rapidement le quanteurs toute formule existentielle ou est sans qu',\n",
       " 'contribution la classification image satellitaires par approche variationnelle et equation aux derivees partielles ce travail est consacre au developpement ainsi qu implantation de deux modeles variat',\n",
       " 'inference statistique pour le mouvements browniens fractionnaires et multifractionnaires statistical inference for fractional and multifractional brownian motion dans cette these nous etudions diver p',\n",
       " 'elaboration un outil aide la decision en vue de levolution de la tarification de transport public en ile dedashfrance observation of social and economic trend ha led the syndicat de transport parisien',\n",
       " 'composition automatique de document hypermedia adaptatifs partir ontology et de requetes intentionnelles de utilisateur automatic composition of adaptive hypermedia document based on ontology and inte',\n",
       " 'modelisation du langage pour le systemes de reconnaissance de la parole destines aux grand vocabulaires application maud le traitement automatique de la parole suscite actuellement un grand interet il',\n",
       " 'untitled 73 22 14point09point2015 45 28point02point2017 no ru 346428 111 56 su 1014535 30point04point1983 ru 2519789 c1 20point06point2014 su 1029909 23point07point1983 su 1517851 a1 30point10point198',\n",
       " 'an activity based approach to pragmatic le but de article est de decrire une approche de la communication et de la pragmatique developpee depuis la moitie de annees 70 sou le nom de activity based com',\n",
       " 'un outil pour calculer de arbres de dependance partir arbres de derivation resume 233 nous presentons un outil permettant de calculer w1 arbre de dependance semantique partir un arbre de derivation ta',\n",
       " 'la programmation orientee objet pour le developpement de modeles de langage resume nous presenterons le developpement de modeles probabilistes de langues naturelles que nous avon effectue dans un cadr',\n",
       " 'analyse multiresolution non emboitee application la visualisation scientifique non nested multiresolution analysis and it application to scientific visualization cette these presente une construction ',\n",
       " 'modeles analytiques de routeurs on etudie ici le performance un routeur dans un contexte de reseau haut debit travers un modele analytique de reseau de file attente un tel modele permet obtenir de res',\n",
       " 'ginger ii an example driven word sense disambiguator ginger ii traite la desambiguisation du sen de mot non supervisee pour anglais en exploitant information de dictionnaires electroniques partir un c',\n",
       " 'produit synchronise pour quelques class de graphes infinis cette these pour cadre la specification et la verification de systemes informatiques distribues concurrents ou reactifs au moyen de graphes i',\n",
       " 'dp detector for presupposition in survey question this paper describes and evaluates detector of presupposition dp for survey question incorrect presupposition can make it difficult to answer question',\n",
       " 'return word in sturmian and episturmian word si on considere chaque occurrence un mot dans un mot infini recurrent on definit ensemble de mot de retour de comme ensemble de tous le mot distincts debut',\n",
       " 'une architecture de communication pour environnements virtuels distribues grande echelle sur internet communication architecture for large scale virtual environment on the internet le modele ip multip',\n",
       " 'emergence et semantique de mondes possible pour de agent appris resume ce travail se place dans le cadre dune approche emergentiste de systemes multi agent nous nous interessons en particulier lemerge',\n",
       " 'processus decisionnels de markov applique la planification sou incertitude un robot mobile evoluant dans un environnement dynamique doit faire face de nombreuses incertitude le action qu il execute on',\n",
       " 'allocation de creneaux pour la regulation du trafic aerien resume le ciel europeen est surcharge le controle aerien atc est depasse par la demande et le consequence sont graf aussi bien pour le compag',\n",
       " 'modeles et simulation informatiques de problemes de cooperation entre agent model and computer simulation of agent cooperation problem le dilemme itere du prisonnier est une representation mathematiqu',\n",
       " 'user a currency technology and marketing trial a naturalistic environment le choix de developper tel ou tel service multimedia interactif domicile repose sur de epreuves de selection selection de la t',\n",
       " 'recalage non rigide en imagerie cerebrale methodes et validation dans le contexte de la fusion de donnees en imagerie medicale cette these interesse aux problemes de recalage non rigide en imagerie ce',\n",
       " 'algorithmique de courbes hyperelliptiques et application la cryptologie etude algorithmique de courbes hyperelliptiques est la suite naturelle de celle de courbes elliptiques qui est maintenant bien a',\n",
       " 'mise en correspondance image en couleur application la synthese de vues intermediaires color image matching application to the synthesis of novel view la mise en correspondance image est une etape cle',\n",
       " 'portable data acquisition system for ekg measurement in marine environment in the present paper an electronic prototype designed to acquire electrocardiographic signal from marine mammal ha been devel',\n",
       " 'conception objet dans le cadre de systemes information spatiaux agregation spatiale et generalisation notre propos est de temoigner de apport du paradigme objet et notamment du formalisme uml dans ela',\n",
       " 'support memoire adaptable pour serveurs de donnees repartis adaptable memory support for distributed data server du fait qu il constitue un passage oblige du flux information un serveur de donnees jou',\n",
       " 'detection et selection information pertinentes application la reconnaissance de visage dans ce papier nous proposons une extension de notre mesure de pertinence hvs heuristic for variable selection ba',\n",
       " 'erratum to shadow price for measure of effectiveness part linear model 1point422 0point04831 0point2640 1point834 0point9284 0point2870 0point1989 0point2427 0point1673 0point2812 0point0495 0point060',\n",
       " 'representation de connaissances et convergence numerique le defi de la complexite la representation de connaissances fait appel soit une logique classificatoire soit une logique de marquage le contrai',\n",
       " 'etude et developpement une bibliotheque adaptation du parallelisme neuromimetique au parallelisme mimd le reseau de neurones artificiels sont connus pour etre de modeles intrinsequement paralleles de ',\n",
       " 'vers une theorie probabiliste de systemes sensori moteurs comment un systeme vivant ou artificiel peutdashil percevoir agir raisonner planifier et decider telle est la question qui depuis lors guide m',\n",
       " 'radiosite base ondelettes sur de surface parametriques dans cette these nous introduisons une methode generale pour effectuer le calcul de radiosite dans de scene constituees une grande variete de sur',\n",
       " 'modele organisation multi agent pour aide au travail cooperatif dans le processus entreprise application aux systemes administratifs complex model of multi agent organization to assist cooperative wor',\n",
       " 'archivage electronique et normalisation etat de travaux iso et afnor parmi le groupes iso et afnor dont le travaux interessent le archive le groupes tc171 de iso sou presidence francaise et cg171 de a',\n",
       " 'etude du couplage une onde electromagnetique externe et une ligne de transmission aerienne non uniforme cet article propose une methode analyse souple et efficace du couplage electromagnetique entre u',\n",
       " 'parametres physique de ambiance architecturales un modele numerique pour la simulation de la lumiere naturelle dans le projet urbain le ambiance architecturales constituent un domaine complexe constit',\n",
       " 'couplage du lancer de rayon et de interaction aretesurface pour une analyse 3d rapide de cibles complex resumenous presentons une methode rapide hautes frequence danalyse de cibles 3d complex parfaite',\n",
       " 'etude de la representation geometrique et texturelle de scene 3d pour le service de visualisation dans un contexte telecommunicant la realite virtuelle represente aujourd hui une technologie part enti',\n",
       " 'importance de annotation application la classification de document du web usager du web se retrouve perdu dans son propre espace information materialise en general par de signet ou bookmark une classi',\n",
       " 'vers un usage plus sur de aliasing avec eiffel le code source du compilateur smalleiffel fait un usage intensif de aliasing afin atteindre le meilleures performance tant en termes de memoire que de vi',\n",
       " 'specification et specialisation de pattern en uml et le pattern jouent un role de plus en plus important dans le developpement de specification et de logiciels orientes objets il proposent de solution',\n",
       " 'complexite et automates cellulaires lineaires le but de cet article est evaluer ordre de croissance de la fonction de complexite rectangulaire de suite double engendrees par un automate cellulaire lin',\n",
       " 'lexicography and disambiguation the size of the problem la question de la desambiguisation du sen de mot est abordee ici un point de vue quantitatif travers une description de ambiguite semantique dan',\n",
       " 'xml un formalisme de representation intermediaire entre donnees semi structurees et representation par objets dans cet article nous analysons le lien existant entre de donnees brute heterogenes et san',\n",
       " 'fast recursive algorithm for 2dashd discrete cosine transform nous presentons un nouvel algorithme pour le calcul de la transformee en cosinus discrets bidimensionnels 2dashd de type iii algorithme es',\n",
       " 'modeles de memoires pour la navigation autonome nous proposons une approche du probleme de la navigation un agent autonome fondee sur une architecture connexionniste inspiree de donnees biologiques co',\n",
       " 'le archive de organisation de la gestion la memoire le organisation produisent de information pour repondre leurs besoins de gestion et aux exigences de leur mandat est sur la qualite de cette informa',\n",
       " 'modelisation de ecoulements gravitaires catastrophiques par une approche objet dynamique erosion transport depot nous proposons dans cette these un modele mathematique simple adapte la sedimentation d',\n",
       " 'analyse de fonctions de protocoles ipsec et leur integration dans un reseau prive virtuel resumeplusieurs approches sont possible pour integrer le fonctions de securite dans le service internet intran',\n",
       " 'sur la piste de indexation conceptuelle de document une approche par annotation dans une premiere partie nous justifions engouement actuel pour indexation conceptuelle de document que nous definissons',\n",
       " 'antennes en reseau ba niveau de lobe secondaires par commutation de la loi dalimentation optimisation par lalgorithme genetique resumelarticle presente une approche de synthese partir dun nouveau type',\n",
       " 'xml estdashil le langage de representation de connaissance de an 2000 de nombreuses application representation du contenu definition de vocabulaire utilisent xml pour transcrire la connaissance et la ',\n",
       " 'discrimination de mode pour etude de discontinuites dans le circuit planaires letude de la dispersion dune ligne de transmission planaire dans une structure fermee est tres delicate cet article essaye',\n",
       " 'le archive de presse la notion archive revet une dimension particuliere dans le entreprises de presse audashdela de la memoire interne le service de documentation gerent egalement de source externes c',\n",
       " 'archivage de document reglementaires maitrise une matiere premiere specifique le document reglementaire est la source de la representation et de la restitution de connaissances juridiques il constitue',\n",
       " 'simulation numerique de la dynamique de systemesmulticorps appliquee aux milieu granulaires numerical simulation of the dynamic ofmultibodies system applied to granular medium hal is multi disciplinar',\n",
       " 'simulation dynamique de corp biologiques et changements de topologie interactifs ce travail de these porte sur la simulation interactive du comportement mecanique de corp biologiques nous nous somme i',\n",
       " 'reseau probabilistes orientes objet la representation de connaissances incertaines est un probleme important dans le domaine de lintelligence artificielle le reseau probabilistes proposent une solutio',\n",
       " 'optimisation de requetes dans un systeme de recherche informationapproche basee sur exploitation de technique avancees de algorithmique genetique le travaux presentes dans cette these traitent de appo',\n",
       " 'une nouvelle approche fonctionnelle pour une assistance geometrique pendant le premiere phase de conception de produits new functional approach for geometrical assistance during the first stage of pro',\n",
       " 'le modele de reference pour le systemes ouverts archivage etonnant parcours une norme unificatrice au depart en 1995 il agit elaborer une norme dans le domaine de archivage de information technique et',\n",
       " 'analyse de la covariance le point de vue du praticien article presente est un exemple de note technique redigees attention de zootechniciens responsables de la conception de la mise en place et de ana',\n",
       " 'synthese sur la reduction conjointe de bruit et decho pour le systemes main libres resumeles telecommunication modernes seprennent de liberte et dans ce paysage le systemes main libres proposent aux a',\n",
       " 'methodes et outils pour le communication dans le application de calcul distribue medley message definition language est un langage de specification de communication pour le application paralleles son ',\n",
       " 'le programme compalex comparaison lexicale le programme que nous presentons ici est un logiciel de dialectometrie la dialectometrie peut etre definie comme lensemble de tous le procedes et methodes qu',\n",
       " 'le codeur mpegdash2 aac explique aux traiteurs de signaux resumedescendant direct de codeurs audio mpeg dont le mp3 est la figure emblematique le mpeg advanced audio coder rassemble le technique de co',\n",
       " 'eine heuristik fur multiple containerladeprobleme zusammenfassung der beitrag stellt eine heuristik fur multiple containerladeprobleme mclp dh containerladeprobleme mit mehreren containern vor mit der',\n",
       " 'europe experiment with multimedia an overview of social experiment and trial presente une revue de question sur le experimentation sociales prealables adoption de technology basees sur le multimedia e',\n",
       " 'vers un modele indexation de document technique le document technique presentent de particularites dans leurs caracteristiques et dans leurs fonctions par ailleurs depuis fort longtemps il melent au t',\n",
       " 'data mining algorithmes extraction et de reduction de regles association dans le base de donnees extraction de connaissances dans le base de donnees egalement appele data mining designe le processus n',\n",
       " 'transfert de charge dans un reseau de processeurs totalement connectes etude presentee ici modelise un transfert de charge sur un reseau de processeurs totalement connectes chaque processeur peut accu',\n",
       " 'antennes compactes pour telecommunication modelisation et perspective resumeles nouveaux service de telecommunication qui vont integrer multimedia internet et technique spatiales necessiteront laccroi',\n",
       " 'interaction entre symbolique et numerique application la vision artificielle interaction between symbolic and numerical computation application to computer vision le motivation initiales de ce travail',\n",
       " 'une methode tabou pour ordonnancement multiprocesseur avec delais de communication cet article traite de problemes ordonnancement de tach sur processeurs identiques en presence de delais de communicat',\n",
       " 'approches langages pour la conception et la mise en oeuvre de programme language approach for program design and implementation par approche langage on entend designer une approche qui exprime soit da',\n",
       " 'vers une programmation fonctionnelle praticable la production de logiciels informatiques ne se resume pa la realisation de gros programme necessitant de annees effort fournies par de equipes imposante',\n",
       " 'de la simulation de embroussaillement un outil aide la gestion de espace un modele de transformation de espace le systemes multi agent sma sont adaptes la modelisation de systemes complex car il prenn',\n",
       " 'adaptation dynamique et apprentissage dans de reseau de neurones recurrents aleatoires dynamic adaptation and learning in random recurrent neural network nous etudions un modele de reseau de neurones ',\n",
       " 'code generateurs minimaux de langages de mot bidashinfinis dans cet article nous exhibons deux familles de code qui sont generateurs minimaux du langage de mot bidashinfinis qu il engendrent la famill',\n",
       " 'architecture reflexive base de composants pour la construction application concurrentes et reparties le systemes information actuels rapprochent le problematiques de genie logiciel et de systemes dist',\n",
       " 'modelisation de la propagation de information cerebrale par graphes causaux qualitatifs modelisation of cerebral information propagation in causal qualitative network hal is multi disciplinary open ac',\n",
       " 'de document numeriques aux depot numeriques au cours de derniers siecles le reseau de depot archive est structure sou effet de contraintes liees aux caracteres physique de support de document leur poi',\n",
       " 'software acquisition management experience learnt in multi discipline and multi contract project environment this paper summarizes software acquisition management lesson learnt from complex multidisci',\n",
       " 'modelisation du geste communicatif et realisation un signeur virtuel de phrase en langue de signes grancaise dans le cadre du geste communicatif la langue de signes francaise lsf constitue un sujet et',\n",
       " 'conception et mise en oeuvre de systemes multi agent ouverts et distribues design and implementation of open and distributed multi agent system an open multi agent system ma is an extensible and evolu',\n",
       " 'quelle normalisation pour le document numerises en vue une conservation et une consultation long terme la croissance constante de information en entreprise de source et de type tres differents pose la',\n",
       " 'preuves par recurrence avec ensemble couvrants contextuels application la verification de logiciels de telecommunication le processus de certification de logiciels est dans la plupart de ca une tache ',\n",
       " 'modelisation de systemes de production de competence apports ingenierie pedagogique dans un modele ou la technique apporte pa toujours un avantage decisif tant elle est partagee par le concurrents le ',\n",
       " 'du papier au numerique le archive de association le restos du cur le archive association sont constituees au fil de urgence de action associative elles accumulent pele mele sans logique au gre de camp',\n",
       " 'convexite dans le plan discret application la tomographie convexity in digital plane application to discrete tomography la premiere partie de cette these est consacree etude de convexes dans le plan d',\n",
       " 'engineer computer interaction for structural monitoring these ecole polytechnique federale de lausanne epfl 2199 2000 faculte de environnement naturel architectural et construitjury chimay anumba simo',\n",
       " 'audio interface and signal processing resumeon traite dans cet article de problemes lie aux interface de prise et la restitution du son dans le telecommunication inter personnelles et de groupe et aux',\n",
       " 'le symetries dans le reseau de petri stochastiques rdps construction du graphe symbolique analyse un reseau de petri necessite souvent le developpement du graphe de marquages accessibles gma dont la t',\n",
       " 'modelisation et manipulation entrepot de donnees complex et historisees le memoire de cette these traite de la modelisation conceptuelle et de la manipulation de donnees par de algebres dans le system',\n",
       " 'fragmentation et enrichissement de textes scientifique sus forme electronique le document scientifiques electroniques sont fortement structure dans leur organisation discursive par de contraintes reda',\n",
       " 'un environnement pour la reconstruction 3d edifice partir de plan architecte cette these inscrit dans le domaine de analyse de document et porte plus precisement sur la reconnaissance de graphiques no',\n",
       " 'autour de sat le calcul impliquants pdashrestreints algorithmes et application beyond sat pdashrestricted implicant algorithm and application le travaux presentes concernent le deux problemes fondamen',\n",
       " 'caracterisation et reconstruction de solides tridimensionnels par squelette ellipsoidal le volume de donnees decrivant le solides tridimensionnels est sans cesse en augmentation une de principales cau',\n",
       " 'thesaurus iconographiques et modeles culturels la plupart de grand organismes charge de la sauvegarde et de la diffusion du patrimoine culturel ont initie de projets de mise en ligne de leurs catalogu',\n",
       " 'formes normales de perturbation de matrix etude et calcul exact study in matrix perturbation algebraic computation of normal form cette these etudie le formes normales rationnelles de perturbation de ',\n",
       " 'reconnaissance structurelle de formules mathematiques typographiees et manuscrites structural recognition of printed and handwritten mathematical formula le sujet de ce memoire est etude et la realisa',\n",
       " 'construction ordres analyse de la complexite le theme de la these concerne etude de ordres en termes de complexite en reecriture mais aussi dans le cadre de termes ordinaux de hierarchy de fonctions s',\n",
       " 'sur quelques paradox en theorie du choix social et en decision multicritere about some paradox in social choice and in multicriterion decision making le theory du choix social et de la decision multic',\n",
       " 'metadyne un hypermedia adaptatif dynamique pour enseignement metadyne dynamic adaptive hypermedia system for teaching enseignement assiste par ordinateur eao est depuis plus de vingt an un domaine de ',\n",
       " 'elkar re ingenierie application pour la mise en oeuvre de la cooperation methodologie et architecture il emerge de entreprises une forte demande evolution de leurs application informatiques vers plus ',\n",
       " 'codage de la parole ba et tres ba debit resumecet article presente le principales technique de codage de parole ba et tres ba debit de 50 bit 000 bit puis il presente en detail la methode hsx pour le ',\n",
       " 'resume de these dans une premiere partie de ce travail nous avon developpe de nouveaux outils pour la micromanipulation adn en pinces magnetiques cet appareil permet appliquer une force controlee une ',\n",
       " 'etude et evaluation de la didashsyllabe comme unite acoustique pour le systeme de synthese arabe paradis letude que nous presentons dans cet article sinscrit dans le cadre de la realisation dun system',\n",
       " 'practical vector restoration technique for large sequential circuit given test sequence and list of fault detected by the sequence vector restoration technique extract minimal subsequence that detects',\n",
       " 'representation de signaux audiovisuels et multimedia de technology emergentes pour de fonctionnalites plus rich la recherche sur la repr6sentation de image de la parole et de son en vue non seulement ',\n",
       " 'comparaison de deux familles completes de descripteurs de formes pour lindexation de base dobjets 2d niveaux de gris resumecet article presente deux familles de descripteurs de formes pour lindexation',\n",
       " 'outils imagerie multimodalite pour la neuroradiologie interventionnelle dans le cadre de la neuroradiologie interventionnelle le medecin utilise diver modalites imagerie angiographie numerique soustra',\n",
       " 'versionnage garder facilement trace de version successives un document exemples avec un outil de controle de version cv un document numerique plus malleable qu un document papier connait plusieurs ver',\n",
       " 'le mouvement projectif theorie et application pour autocalibrage et la segmentation du mouvement la vision stereoscopique apparait dans de nombreuses application comme le moyen le plus evident pour ob',\n",
       " 'reconstruction 3d robuste du visage approche duale mouvement structure resumecet article presente une approche originale de reconstruction et danimation tridimensionnelle du visage humain partir dune ',\n",
       " 'une bijection geometrique entre une famille hypercartes et une famille de polygones enumerees par la serie de schroder abstract la serie de schroder enumere de nombreuses familles objets combinatoires',\n",
       " 'lower bound for reversible automaton un automate reversible est un automate fini dans lequel chaque lettre realise une fonction injective de ensemble de etats dans lui meme on resout dans cet article ',\n",
       " 'indexation audio un etat de iart resumea lheure actuelle nous disposons dune quantite dinformations audio la fois importante et grandissante par le biais de base de donnees publiques ou privees site i',\n",
       " 'automatisation de methodes de reduction de variance pour la resolution de equation de transport le methodes de monte carlo sont souvent utilisees pour la resolution de problemes de neutroniques la gra',\n",
       " 'parallelisation une combinaison de methodes de monte carlo et quasi monte carlo et application aux reseau de file attente nous proposons un algorithme parallele qui regroupe le caracteristiques de deu',\n",
       " 'indexation une structure de connaissance pour le diagnostic base hypertexte la realisation un systeme hypertexte aide au diagnostic de systemes demande une part une instrumentation adaptee pour une na',\n",
       " 'integration de indexation conceptuelle dans expression du besoin information cet article decrit une methodologie acces information permettant le passage une collection de modeles de connaissances la c',\n",
       " 'comparing classification tree structure special case of comparing qdashary relation ii la comparaison de relation qdashaires sur un ensemble objets elementaires est un de problemes le plus fondamentau',\n",
       " 'technology du tatouage pour lauthentification et la protection de image resumecet article presente un survol de technique de tatouage de image et de leur integration dans de systemes de protection on ',\n",
       " 'multiple description lattice vector quantization variation and extension multiple description lattice vector quantization mdlvq is technique for two channel multiple description coding we observe that',\n",
       " 'word sense disambiguation with similarity smoothed case library presente un algorithme de desambiguisation du sen de mot ou la bibliotheque consiste en contextes restreints exemples etiquette de sen t',\n",
       " 'ordonnancement efficace application paralleles le tach malleables monotone efficient scheduling of parallel application the monotonic malleable task la repartition de calculs et de donnees est le prob',\n",
       " 'about the globular homology of higher dimensional automaton on introduit un nouveau nerf simplicial automate parallele dont homologie simpliciale decalee de foumit une nouvelle definition de homologie',\n",
       " 'technology in teaching literature and culture some reflection auteur adresse ici quelques reflexion sur le modalites integration de ntic enseignement de la culture et de la litterature et sur le manqu',\n",
       " 'untitled 24 18point06point2013 be be 14point08point2017 73 u 30 17point07point2012 ep 12176644point8 56 ep 0435060 a2 03point07point1991 jp 2110123 23point04point1990 wo 2010023060 a1 43 10point09poin',\n",
       " 'paires elementaires de corp pseudo finis denombrement de completion resume soit ii une theorie complete de corp pseudo finis objet de cette note est de montrer que dans le langage de anneaux augmente ',\n",
       " 'untitled 24 28point04point2017 73 u 13point08point2019 56 u 2012 0192560 a1 02point08point2012 u 30 23point05point2016 u 15 162 443 2011 0239643 a1 06point10point2011 u 2011 0209473 a1 01point09point2',\n",
       " 'tolerance aux fautes sur corba par protocole metaobjets et langages reflexifs objectif de cette these est la conception et implementation un protocole metaobjets adapte la tolerance aux fautes objets ',\n",
       " 'traduction et optimisation globale dans le langages de class translation and global optimization in class based language ce travail inscrit dans le cadre de recherches menees autour de la compilation ',\n",
       " 'hierarchy de generalisation dans le base de donnees relationnelles une approche hybride de retro conception this paper proposes to combine heuristic technique and an algorithmic one to provide method ',\n",
       " 'the role of the management consultant in information management gestion de information dans une entreprise role du consultant en gestion dans le contexte de la mondialisation\\n',\n",
       " 'the search for criterion and method for selection of authentic electronic record le projet interpares est un projet de recherche international qui regroupe de chercheurs de plusieurs discipline avec d',\n",
       " 'qualite de service et ordonnancement dans le systemes de communication temp reel nous nous interessons ici aux systemes de communication temp reel architecture reduites est adashdire sans couch reseau',\n",
       " 'la methode rtl un concept hybride pour lanalyse du rayonnement de carte electroniques resumedans cette etude une methode hybride pour lanalyse du rayonnement de carte electroniques pcb printed circuit',\n",
       " 'repartition de la perception dans un systeme distribue de robot autonomes nous presentons une architecture de controle de robot mobile cooperatifs destines une utilisation en milieu hostile chaque rob',\n",
       " 'support informatique une communication mediatisee objet de cette these est etude de integration de la video dans le systemes informatiques interactifs cette etude se place dans le contexte de la commu',\n",
       " 'la rehabilitation de archive scientifiques et technique une entreprise comme le cnes il ne peut etre question lorsque on parle de rehabilitation archive que de la maitrise une information passee inser']"
      ]
     },
     "execution_count": 22,
     "metadata": {},
     "output_type": "execute_result"
    }
   ],
   "source": [
    "langs['fr']"
   ]
  },
  {
   "cell_type": "markdown",
   "metadata": {},
   "source": [
    "**Thoughts: the reduction in time taken isn't sufficient to justify a major cut in the amount of available text**\n"
   ]
  },
  {
   "cell_type": "markdown",
   "metadata": {},
   "source": [
    "## Go through all abstracts and remove the ones which are not in english language"
   ]
  },
  {
   "cell_type": "code",
   "execution_count": 2,
   "metadata": {},
   "outputs": [
    {
     "name": "stderr",
     "output_type": "stream",
     "text": [
      "Lines in file processed...: 5245it [00:26, 195.40it/s]\n",
      "Lines in file processed...: 0it [00:00, ?it/s]"
     ]
    },
    {
     "name": "stdout",
     "output_type": "stream",
     "text": [
      "1980 26.913002490997314\n"
     ]
    },
    {
     "name": "stderr",
     "output_type": "stream",
     "text": [
      "Lines in file processed...: 5565it [00:28, 196.03it/s]\n",
      "Lines in file processed...: 0it [00:00, ?it/s]"
     ]
    },
    {
     "name": "stdout",
     "output_type": "stream",
     "text": [
      "1981 28.477207899093628\n"
     ]
    },
    {
     "name": "stderr",
     "output_type": "stream",
     "text": [
      "Lines in file processed...: 6380it [00:33, 192.42it/s]\n",
      "Lines in file processed...: 0it [00:00, ?it/s]"
     ]
    },
    {
     "name": "stdout",
     "output_type": "stream",
     "text": [
      "1982 33.250861167907715\n"
     ]
    },
    {
     "name": "stderr",
     "output_type": "stream",
     "text": [
      "Lines in file processed...: 7138it [00:41, 170.24it/s]\n",
      "Lines in file processed...: 0it [00:00, ?it/s]"
     ]
    },
    {
     "name": "stdout",
     "output_type": "stream",
     "text": [
      "1983 42.04364633560181\n"
     ]
    },
    {
     "name": "stderr",
     "output_type": "stream",
     "text": [
      "Lines in file processed...: 8235it [00:51, 160.95it/s]\n",
      "Lines in file processed...: 0it [00:00, ?it/s]"
     ]
    },
    {
     "name": "stdout",
     "output_type": "stream",
     "text": [
      "1984 51.276766300201416\n"
     ]
    },
    {
     "name": "stderr",
     "output_type": "stream",
     "text": [
      "Lines in file processed...: 9064it [00:54, 164.90it/s]\n",
      "Lines in file processed...: 0it [00:00, ?it/s]"
     ]
    },
    {
     "name": "stdout",
     "output_type": "stream",
     "text": [
      "1985 55.11902856826782\n"
     ]
    },
    {
     "name": "stderr",
     "output_type": "stream",
     "text": [
      "Lines in file processed...: 10193it [01:12, 140.79it/s]\n",
      "Lines in file processed...: 0it [00:00, ?it/s]"
     ]
    },
    {
     "name": "stdout",
     "output_type": "stream",
     "text": [
      "1986 72.57939624786377\n"
     ]
    },
    {
     "name": "stderr",
     "output_type": "stream",
     "text": [
      "Lines in file processed...: 11646it [01:10, 165.90it/s]\n",
      "Lines in file processed...: 0it [00:00, ?it/s]"
     ]
    },
    {
     "name": "stdout",
     "output_type": "stream",
     "text": [
      "1987 70.34139394760132\n"
     ]
    },
    {
     "name": "stderr",
     "output_type": "stream",
     "text": [
      "Lines in file processed...: 14660it [01:43, 141.84it/s]\n",
      "Lines in file processed...: 0it [00:00, ?it/s]"
     ]
    },
    {
     "name": "stdout",
     "output_type": "stream",
     "text": [
      "1988 103.5322802066803\n"
     ]
    },
    {
     "name": "stderr",
     "output_type": "stream",
     "text": [
      "Lines in file processed...: 16706it [01:38, 169.35it/s]\n",
      "Lines in file processed...: 0it [00:00, ?it/s]"
     ]
    },
    {
     "name": "stdout",
     "output_type": "stream",
     "text": [
      "1989 98.8591980934143\n"
     ]
    },
    {
     "name": "stderr",
     "output_type": "stream",
     "text": [
      "Lines in file processed...: 19760it [01:53, 173.77it/s]\n",
      "Lines in file processed...: 0it [00:00, ?it/s]"
     ]
    },
    {
     "name": "stdout",
     "output_type": "stream",
     "text": [
      "1990 113.99781918525696\n"
     ]
    },
    {
     "name": "stderr",
     "output_type": "stream",
     "text": [
      "Lines in file processed...: 22660it [02:19, 162.81it/s]\n",
      "Lines in file processed...: 0it [00:00, ?it/s]"
     ]
    },
    {
     "name": "stdout",
     "output_type": "stream",
     "text": [
      "1991 139.42477655410767\n"
     ]
    },
    {
     "name": "stderr",
     "output_type": "stream",
     "text": [
      "Lines in file processed...: 25386it [02:22, 177.83it/s]\n",
      "Lines in file processed...: 0it [00:00, ?it/s]"
     ]
    },
    {
     "name": "stdout",
     "output_type": "stream",
     "text": [
      "1992 143.03540110588074\n"
     ]
    },
    {
     "name": "stderr",
     "output_type": "stream",
     "text": [
      "Lines in file processed...: 29680it [03:03, 161.67it/s]\n",
      "Lines in file processed...: 0it [00:00, ?it/s]"
     ]
    },
    {
     "name": "stdout",
     "output_type": "stream",
     "text": [
      "1993 183.91923785209656\n"
     ]
    },
    {
     "name": "stderr",
     "output_type": "stream",
     "text": [
      "Lines in file processed...: 33808it [03:35, 157.22it/s]\n",
      "Lines in file processed...: 0it [00:00, ?it/s]"
     ]
    },
    {
     "name": "stdout",
     "output_type": "stream",
     "text": [
      "1994 215.40284776687622\n"
     ]
    },
    {
     "name": "stderr",
     "output_type": "stream",
     "text": [
      "Lines in file processed...: 36210it [03:59, 151.08it/s]\n",
      "Lines in file processed...: 0it [00:00, ?it/s]"
     ]
    },
    {
     "name": "stdout",
     "output_type": "stream",
     "text": [
      "1995 240.05048847198486\n"
     ]
    },
    {
     "name": "stderr",
     "output_type": "stream",
     "text": [
      "Lines in file processed...: 40082it [04:41, 142.20it/s]\n",
      "Lines in file processed...: 0it [00:00, ?it/s]"
     ]
    },
    {
     "name": "stdout",
     "output_type": "stream",
     "text": [
      "1996 282.3543186187744\n"
     ]
    },
    {
     "name": "stderr",
     "output_type": "stream",
     "text": [
      "Lines in file processed...: 44237it [05:18, 139.00it/s]\n",
      "Lines in file processed...: 0it [00:00, ?it/s]"
     ]
    },
    {
     "name": "stdout",
     "output_type": "stream",
     "text": [
      "1997 318.7963058948517\n"
     ]
    },
    {
     "name": "stderr",
     "output_type": "stream",
     "text": [
      "Lines in file processed...: 51735it [05:54, 145.94it/s]\n",
      "Lines in file processed...: 0it [00:00, ?it/s]"
     ]
    },
    {
     "name": "stdout",
     "output_type": "stream",
     "text": [
      "1998 355.0483636856079\n"
     ]
    },
    {
     "name": "stderr",
     "output_type": "stream",
     "text": [
      "Lines in file processed...: 55869it [06:36, 141.04it/s]\n"
     ]
    },
    {
     "name": "stdout",
     "output_type": "stream",
     "text": [
      "1999 396.7487895488739\n"
     ]
    }
   ],
   "source": [
    "for year in range(1980, 2000):\n",
    "    t0 = time.time()\n",
    "    to_write = []\n",
    "    with open(\"D:/CDT/Data/semantic_scholar_cleaned/\"+str(year)+\".txt\", \"r\") as f:\n",
    "        for line in tqdm(f,  desc='Lines in file processed...', mininterval=10):\n",
    "            if detect(line[0:1000]) == 'en':\n",
    "                to_write.append(line)\n",
    "\n",
    "\n",
    "    with open(\"../../Data/semantic_scholar_cleaned_langdetect/\"+str(year)+\".txt\", \"a\") as f:\n",
    "        for line in to_write:\n",
    "            f.write(line)\n",
    "    \n",
    "    del to_write\n",
    "    print(year, time.time()-t0)"
   ]
  },
  {
   "cell_type": "markdown",
   "metadata": {},
   "source": [
    "# Build a vocabulary\n",
    "\n",
    "- lemmatise stopwords\n",
    "- for each year, remove stopwords, then build a vocabulary.\n",
    "- I want the overall vocabulary to be stored in a dictionary such that the count is the total document count of the word. This should be updated each year.\n"
   ]
  },
  {
   "cell_type": "code",
   "execution_count": 8,
   "metadata": {},
   "outputs": [
    {
     "name": "stdout",
     "output_type": "stream",
     "text": [
      "6.5104005336761475\n"
     ]
    }
   ],
   "source": [
    "vectorizer = CountVectorizer(strip_accents='unicode',\n",
    "                             ngram_range=(1,5),\n",
    "                             stop_words=stop,\n",
    "                             min_df=6,\n",
    "                             max_df = 1000000\n",
    "                            )\n",
    "\n",
    "t0 = time.time()\n",
    "with open(\"../../Data/semantic_scholar_cleaned/1980.txt\", \"r\") as f:\n",
    "    documents = f.readlines()\n",
    "    documents = [d.strip() for d in documents] \n",
    "\n",
    "vector = vectorizer.fit_transform(documents)\n",
    "print(time.time()-t0)"
   ]
  },
  {
   "cell_type": "code",
   "execution_count": 20,
   "metadata": {},
   "outputs": [
    {
     "name": "stdout",
     "output_type": "stream",
     "text": [
      "370383\n"
     ]
    }
   ],
   "source": [
    "# set all elements that are >1 in the vector to 1. This is done so we can calculate document frequency of terms.\n",
    "print(np.sum(vector))"
   ]
  },
  {
   "cell_type": "code",
   "execution_count": 21,
   "metadata": {},
   "outputs": [
    {
     "name": "stdout",
     "output_type": "stream",
     "text": [
      "267893\n"
     ]
    }
   ],
   "source": [
    "vector[vector>1] = 1\n",
    "print(np.sum(vector))"
   ]
  },
  {
   "cell_type": "code",
   "execution_count": 36,
   "metadata": {},
   "outputs": [
    {
     "data": {
      "text/plain": [
       "array([30,  6,  6, ...,  8, 18, 27], dtype=int64)"
      ]
     },
     "execution_count": 36,
     "metadata": {},
     "output_type": "execute_result"
    }
   ],
   "source": [
    "np.asarray(np.sum(vector, axis=0))[0]"
   ]
  },
  {
   "cell_type": "code",
   "execution_count": 28,
   "metadata": {},
   "outputs": [
    {
     "data": {
      "text/plain": [
       "8998"
      ]
     },
     "execution_count": 28,
     "metadata": {},
     "output_type": "execute_result"
    }
   ],
   "source": [
    "len(vectorizer.vocabulary_)"
   ]
  },
  {
   "cell_type": "code",
   "execution_count": 40,
   "metadata": {},
   "outputs": [],
   "source": [
    "vocabulary = defaultdict(int)\n",
    "\n",
    "vector[vector>1] = 1\n",
    "document_frequency = np.asarray(np.sum(vector, axis=0))[0]\n",
    "\n",
    "for term in vectorizer.vocabulary_:\n",
    "    vocabulary[term] += document_frequency[vectorizer.vocabulary_[term]]\n",
    "    \n",
    "del vector\n",
    "del vectorizer"
   ]
  },
  {
   "cell_type": "markdown",
   "metadata": {},
   "source": [
    "## Now build the vocabulary for real..."
   ]
  },
  {
   "cell_type": "code",
   "execution_count": 2,
   "metadata": {},
   "outputs": [
    {
     "name": "stdout",
     "output_type": "stream",
     "text": [
      "2020 640730 759.7719836235046\n",
      "2019 781990 787.8609170913696\n",
      "2018 844614 733.3687374591827\n",
      "2017 882535 661.7947747707367\n",
      "2016 910152 718.7338662147522\n",
      "2015 932299 657.1821525096893\n",
      "2014 950451 614.8959999084473\n",
      "2013 965540 525.9848170280457\n",
      "2012 977135 485.18851375579834\n",
      "2011 986440 478.5876338481903\n",
      "2010 992834 397.3440001010895\n",
      "2009 999337 371.5789999961853\n",
      "2008 1003902 306.7249596118927\n",
      "2007 1008582 288.5188488960266\n",
      "2006 1012205 256.6606636047363\n",
      "2005 1016732 230.3845226764679\n",
      "2004 1018897 203.78000020980835\n",
      "2003 1019513 144.63499999046326\n",
      "2002 1020035 123.1819999217987\n",
      "2001 1020687 107.71599984169006\n",
      "2000 1021362 100.76200032234192\n"
     ]
    }
   ],
   "source": [
    "vocabulary = defaultdict(int)\n",
    "\n",
    "for year in range(2020, 1999, -1):\n",
    "    t0 = time.time()\n",
    "    with open(\"E:/Data/semantic_scholar_cleaned_langdetect/\"+str(year)+\".txt\", \"r\") as f:\n",
    "        documents = f.readlines()\n",
    "        documents = [d.strip() for d in documents] \n",
    "\n",
    "    vectorizer = CountVectorizer(strip_accents='unicode',\n",
    "                             ngram_range=(1,4),\n",
    "                             stop_words=stop,\n",
    "                             min_df=10,\n",
    "                             max_df = 1000000\n",
    "                            )\n",
    "    \n",
    "    vector = vectorizer.fit_transform(documents)\n",
    "\n",
    "    del documents\n",
    "    \n",
    "    vector[vector>1] = 1\n",
    "    document_frequency = np.asarray(np.sum(vector, axis=0))[0]\n",
    "\n",
    "    for term in vectorizer.vocabulary_:\n",
    "        vocabulary[term] += document_frequency[vectorizer.vocabulary_[term]]\n",
    "\n",
    "    del vector\n",
    "    del vectorizer\n",
    "    del document_frequency\n",
    "    \n",
    "    pickle.dump(vocabulary, open(\"interim_vocabulary.p\", \"wb\"))\n",
    "    \n",
    "    print(year, len(vocabulary.keys()), time.time()-t0)"
   ]
  },
  {
   "cell_type": "code",
   "execution_count": 7,
   "metadata": {},
   "outputs": [],
   "source": [
    "list(vocabulary.keys())\n",
    "pickle.dump(list(vocabulary.keys()), open(\"vocabulary.p\", \"wb\"))"
   ]
  },
  {
   "cell_type": "code",
   "execution_count": 6,
   "metadata": {},
   "outputs": [
    {
     "data": {
      "text/plain": [
       "1021362"
      ]
     },
     "execution_count": 6,
     "metadata": {},
     "output_type": "execute_result"
    }
   ],
   "source": [
    "len(set(list(vocabulary.keys())))"
   ]
  },
  {
   "cell_type": "markdown",
   "metadata": {},
   "source": [
    "The issue with this approach is that it uses a massive amount of space, and my poor computer cannot cope. The smallest file, 2000.txt, contains 60,000 documents. We can't really realistically find terms occuring in less than 0.2% per year. Therefore, set cut off at 30 documents in a single year at their peak. \n",
    "\n",
    "We also don't need to hold the entire matrix, since we are only trying to build a vocabulary.\n",
    "\n",
    "In order to do this in manageable chunks, how about vectorizing 10,000 at a time?"
   ]
  },
  {
   "cell_type": "code",
   "execution_count": 55,
   "metadata": {},
   "outputs": [
    {
     "name": "stderr",
     "output_type": "stream",
     "text": [
      "\n",
      "Chunks processed:   0%|                                                                          | 0/6 [00:00<?, ?it/s]\u001b[A\n",
      "Chunks processed:  17%|███████████                                                       | 1/6 [00:12<01:03, 12.73s/it]\u001b[A\n",
      "Chunks processed:  33%|██████████████████████                                            | 2/6 [00:26<00:51, 12.97s/it]\u001b[A\n",
      "Chunks processed:  50%|█████████████████████████████████                                 | 3/6 [00:39<00:39, 13.04s/it]\u001b[A\n",
      "Chunks processed:  67%|████████████████████████████████████████████                      | 4/6 [00:52<00:26, 13.16s/it]\u001b[A\n",
      "Chunks processed:  83%|███████████████████████████████████████████████████████           | 5/6 [01:06<00:13, 13.23s/it]\u001b[A\n",
      "Chunks processed: 100%|██████████████████████████████████████████████████████████████████| 6/6 [01:19<00:00, 13.20s/it]\u001b[A\n"
     ]
    },
    {
     "name": "stdout",
     "output_type": "stream",
     "text": [
      "21773 87.42224407196045\n"
     ]
    }
   ],
   "source": [
    "chunk = 10000\n",
    "min_yearly_df = 20\n",
    "\n",
    "vocabulary2 = defaultdict(int)\n",
    "\n",
    "    \n",
    "t0 = time.time()\n",
    "\n",
    "interim_vocabulary = defaultdict(int)\n",
    "with open(\"../../Data/semantic_scholar_cleaned_langdetect/2000.txt\", \"r\") as f:\n",
    "    documents = f.readlines()\n",
    "    documents = [d.strip() for d in documents] \n",
    "    random.shuffle(documents)\n",
    "\n",
    "\n",
    "\n",
    "# Go through the documents in chunks, creating a vocabulary\n",
    "for i in tqdm(range(int(np.ceil(len(documents)/chunk))-1), desc='Chunks processed'):\n",
    "\n",
    "    vectorizer = CountVectorizer(strip_accents='unicode',\n",
    "                         ngram_range=(1,4),\n",
    "                         stop_words=stop,\n",
    "                         min_df=2,\n",
    "                         max_df = chunk\n",
    "                        )\n",
    "    \n",
    "    vector = vectorizer.fit_transform(documents[chunk*i:chunk*(i+1)])\n",
    "    vector[vector>1] = 1\n",
    "    document_frequency = np.asarray(np.sum(vector, axis=0))[0]\n",
    "\n",
    "    del vector \n",
    "\n",
    "    for term in vectorizer.vocabulary_:\n",
    "        interim_vocabulary[term] += document_frequency[vectorizer.vocabulary_[term]]\n",
    "\n",
    "    del document_frequency\n",
    "    del vectorizer\n",
    "\n",
    "# Now do for the last remaining documents\n",
    "vectorizer = CountVectorizer(strip_accents='unicode',\n",
    "                     ngram_range=(1,4),\n",
    "                     stop_words=stop,\n",
    "                     min_df=1,\n",
    "                     max_df = chunk\n",
    "                    )\n",
    "\n",
    "vector = vectorizer.fit_transform(documents[chunk*(i+1):chunk*(i+2)])\n",
    "vector[vector>1] = 1\n",
    "document_frequency = np.asarray(np.sum(vector, axis=0))[0]\n",
    "\n",
    "del vector \n",
    "\n",
    "for term in vectorizer.vocabulary_:\n",
    "    interim_vocabulary[term] += document_frequency[vectorizer.vocabulary_[term]]\n",
    "\n",
    "del document_frequency\n",
    "del vectorizer\n",
    "    \n",
    "del documents\n",
    "\n",
    "for term in interim_vocabulary.keys():\n",
    "    if interim_vocabulary[term] >= min_yearly_df:\n",
    "        vocabulary2[term] += interim_vocabulary[term]\n",
    "\n",
    "print(len(vocabulary2), time.time()-t0)\n",
    "    \n"
   ]
  },
  {
   "cell_type": "code",
   "execution_count": 60,
   "metadata": {},
   "outputs": [
    {
     "name": "stdout",
     "output_type": "stream",
     "text": [
      "21958 90.74334478378296\n"
     ]
    }
   ],
   "source": [
    "chunk = 10000\n",
    "min_yearly_df = 30\n",
    "\n",
    "vocabulary = defaultdict(int)\n",
    "\n",
    "    \n",
    "t0 = time.time()\n",
    "\n",
    "interim_vocabulary = defaultdict(int)\n",
    "with open(\"../../Data/semantic_scholar_cleaned_langdetect/2000.txt\", \"r\") as f:\n",
    "    documents = f.readlines()\n",
    "    documents = [d.strip() for d in documents] \n",
    "\n",
    "vectorizer = CountVectorizer(strip_accents='unicode',\n",
    "                         ngram_range=(1,4),\n",
    "                         stop_words=stop,\n",
    "                         min_df=30,\n",
    "                         max_df = 100000\n",
    "                        )\n",
    "\n",
    "vector = vectorizer.fit_transform(documents)\n",
    "vector[vector>1] = 1\n",
    "document_frequency = np.asarray(np.sum(vector, axis=0))[0]\n",
    "\n",
    "\n",
    "for term in vectorizer.vocabulary_:\n",
    "    vocabulary[term] += document_frequency[vectorizer.vocabulary_[term]]\n",
    "    \n",
    "print(len(vocabulary), time.time()-t0)"
   ]
  },
  {
   "cell_type": "code",
   "execution_count": 40,
   "metadata": {},
   "outputs": [],
   "source": [
    "del vector\n",
    "del document_frequency\n",
    "del vectorizer\n",
    "del documents\n"
   ]
  },
  {
   "cell_type": "code",
   "execution_count": null,
   "metadata": {},
   "outputs": [],
   "source": []
  }
 ],
 "metadata": {
  "kernelspec": {
   "display_name": "Python 3",
   "language": "python",
   "name": "python3"
  },
  "language_info": {
   "codemirror_mode": {
    "name": "ipython",
    "version": 3
   },
   "file_extension": ".py",
   "mimetype": "text/x-python",
   "name": "python",
   "nbconvert_exporter": "python",
   "pygments_lexer": "ipython3",
   "version": "3.7.11"
  }
 },
 "nbformat": 4,
 "nbformat_minor": 2
}
